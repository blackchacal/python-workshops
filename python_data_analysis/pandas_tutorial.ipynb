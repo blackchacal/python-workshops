{
 "cells": [
  {
   "cell_type": "markdown",
   "metadata": {},
   "source": [
    "# Pandas Tutorial\n",
    "\n",
    "Tutorial introdutório de Pandas. Serão abordados os seguintes tópicos:\n",
    "1. [Importação](#1)\n",
    "1. [Estruturas base: Series, DataFrame e Panel](#2)\n",
    "2. [IO Tools](#3)\n",
    "3. [Basic functionality](#4)\n",
    "4. [Descriptive Statistics](#5)\n",
    "5. [Reindexing](#6)\n",
    "6. [Iteration](#7)\n",
    "7. [Sorting](#8)\n",
    "8. [Working with Text](#9)\n",
    "9. [Indexing and Selection](#10)\n",
    "10. [Statistical Functions](#11)\n",
    "11. [Window Functions](#12)\n",
    "12. [Aggregations](#13)\n",
    "13. [Missing Data](#14)\n",
    "14. [GroupBy](#15)\n",
    "15. [Merging/Joining](#16)\n",
    "16. [Concatenation](#17)\n",
    "17. [Visualization](#18)\n",
    "\n",
    "Baseado no tutorial da TutorialsPoint:\n",
    "https://www.tutorialspoint.com/python_pandas/index.htm"
   ]
  },
  {
   "cell_type": "markdown",
   "metadata": {},
   "source": [
    "## <a name=\"1\">1. Importação</a>"
   ]
  },
  {
   "cell_type": "code",
   "execution_count": 2,
   "metadata": {},
   "outputs": [],
   "source": [
    "import pandas as pd\n",
    "import numpy as np # It will be needed"
   ]
  },
  {
   "cell_type": "markdown",
   "metadata": {},
   "source": [
    "## <a name=\"2\">2. Estruturas base: Series, DataFrame e Panel</a>"
   ]
  },
  {
   "cell_type": "markdown",
   "metadata": {},
   "source": [
    "### Series\n",
    "\n",
    "Series é um array unidimensional etiquetado e capaz de conter qualquer tipo (integer, string, float, python objects, etc.). As etiquetas do eixo são chamadas de index."
   ]
  },
  {
   "cell_type": "code",
   "execution_count": 3,
   "metadata": {},
   "outputs": [
    {
     "name": "stdout",
     "output_type": "stream",
     "text": [
      "Series([], dtype: float64)\n"
     ]
    }
   ],
   "source": [
    "# Series vazia\n",
    "s = pd.Series()\n",
    "print(s)"
   ]
  },
  {
   "cell_type": "code",
   "execution_count": 4,
   "metadata": {},
   "outputs": [
    {
     "name": "stdout",
     "output_type": "stream",
     "text": [
      "0    a\n",
      "1    b\n",
      "2    c\n",
      "3    d\n",
      "dtype: object\n"
     ]
    }
   ],
   "source": [
    "# Series com 4 linhas, usando listas\n",
    "data = np.array(['a','b','c','d'])\n",
    "s = pd.Series(data)\n",
    "print(s)"
   ]
  },
  {
   "cell_type": "code",
   "execution_count": 5,
   "metadata": {},
   "outputs": [
    {
     "name": "stdout",
     "output_type": "stream",
     "text": [
      "100    a\n",
      "101    b\n",
      "102    c\n",
      "103    d\n",
      "dtype: object\n"
     ]
    }
   ],
   "source": [
    "# Definição das labels de indexação (linha)\n",
    "s = pd.Series(data,index=[100,101,102,103])\n",
    "print(s)"
   ]
  },
  {
   "cell_type": "code",
   "execution_count": 6,
   "metadata": {},
   "outputs": [
    {
     "name": "stdout",
     "output_type": "stream",
     "text": [
      "a    0.0\n",
      "b    1.0\n",
      "c    2.0\n",
      "dtype: float64\n"
     ]
    }
   ],
   "source": [
    "# Usar dicionários para criar a Series\n",
    "data = {'a' : 0., 'b' : 1., 'c' : 2.}\n",
    "s = pd.Series(data)\n",
    "print(s)"
   ]
  },
  {
   "cell_type": "code",
   "execution_count": 7,
   "metadata": {},
   "outputs": [
    {
     "name": "stdout",
     "output_type": "stream",
     "text": [
      "b    1.0\n",
      "c    2.0\n",
      "d    NaN\n",
      "a    0.0\n",
      "dtype: float64\n"
     ]
    }
   ],
   "source": [
    "# Definir as labels de indexação. Se não existirem nos\n",
    "# dados a linha é preenchida com NaN.\n",
    "data = {'a' : 0., 'b' : 1., 'c' : 2.}\n",
    "s = pd.Series(data,index=['b','c','d','a'])\n",
    "print(s)"
   ]
  },
  {
   "cell_type": "code",
   "execution_count": 8,
   "metadata": {},
   "outputs": [
    {
     "name": "stdout",
     "output_type": "stream",
     "text": [
      "0    5\n",
      "1    5\n",
      "2    5\n",
      "3    5\n",
      "dtype: int64\n"
     ]
    }
   ],
   "source": [
    "# Series sempre com o mesmo valor\n",
    "s = pd.Series(5, index=[0, 1, 2, 3])\n",
    "print(s)"
   ]
  },
  {
   "cell_type": "code",
   "execution_count": 9,
   "metadata": {},
   "outputs": [
    {
     "name": "stdout",
     "output_type": "stream",
     "text": [
      "1\n"
     ]
    }
   ],
   "source": [
    "# Indexação da Series por índice\n",
    "s = pd.Series([1,2,3,4],index=['a','b','c','d'])\n",
    "print(s[0])"
   ]
  },
  {
   "cell_type": "code",
   "execution_count": 11,
   "metadata": {},
   "outputs": [
    {
     "name": "stdout",
     "output_type": "stream",
     "text": [
      "a    1\n",
      "b    2\n",
      "c    3\n",
      "dtype: int64\n",
      "c    3\n",
      "d    4\n",
      "e    5\n",
      "dtype: int64\n",
      "1\n",
      "a    1\n",
      "c    3\n",
      "d    4\n",
      "dtype: int64\n"
     ]
    },
    {
     "ename": "KeyError",
     "evalue": "'f'",
     "output_type": "error",
     "traceback": [
      "\u001b[0;31m---------------------------------------------------------------------------\u001b[0m",
      "\u001b[0;31mTypeError\u001b[0m                                 Traceback (most recent call last)",
      "\u001b[0;32m~/anaconda3/lib/python3.5/site-packages/pandas/core/indexes/base.py\u001b[0m in \u001b[0;36mget_value\u001b[0;34m(self, series, key)\u001b[0m\n\u001b[1;32m   3123\u001b[0m             \u001b[0;32mtry\u001b[0m\u001b[0;34m:\u001b[0m\u001b[0;34m\u001b[0m\u001b[0m\n\u001b[0;32m-> 3124\u001b[0;31m                 \u001b[0;32mreturn\u001b[0m \u001b[0mlibindex\u001b[0m\u001b[0;34m.\u001b[0m\u001b[0mget_value_box\u001b[0m\u001b[0;34m(\u001b[0m\u001b[0ms\u001b[0m\u001b[0;34m,\u001b[0m \u001b[0mkey\u001b[0m\u001b[0;34m)\u001b[0m\u001b[0;34m\u001b[0m\u001b[0m\n\u001b[0m\u001b[1;32m   3125\u001b[0m             \u001b[0;32mexcept\u001b[0m \u001b[0mIndexError\u001b[0m\u001b[0;34m:\u001b[0m\u001b[0;34m\u001b[0m\u001b[0m\n",
      "\u001b[0;32mpandas/_libs/index.pyx\u001b[0m in \u001b[0;36mpandas._libs.index.get_value_box\u001b[0;34m()\u001b[0m\n",
      "\u001b[0;32mpandas/_libs/index.pyx\u001b[0m in \u001b[0;36mpandas._libs.index.get_value_box\u001b[0;34m()\u001b[0m\n",
      "\u001b[0;31mTypeError\u001b[0m: 'str' object cannot be interpreted as an integer",
      "\nDuring handling of the above exception, another exception occurred:\n",
      "\u001b[0;31mKeyError\u001b[0m                                  Traceback (most recent call last)",
      "\u001b[0;32m<ipython-input-11-1dc3fdef49c3>\u001b[0m in \u001b[0;36m<module>\u001b[0;34m()\u001b[0m\n\u001b[1;32m      5\u001b[0m \u001b[0mprint\u001b[0m\u001b[0;34m(\u001b[0m\u001b[0ms\u001b[0m\u001b[0;34m[\u001b[0m\u001b[0;34m'a'\u001b[0m\u001b[0;34m]\u001b[0m\u001b[0;34m)\u001b[0m\u001b[0;31m# label indexing\u001b[0m\u001b[0;34m\u001b[0m\u001b[0m\n\u001b[1;32m      6\u001b[0m \u001b[0mprint\u001b[0m\u001b[0;34m(\u001b[0m\u001b[0ms\u001b[0m\u001b[0;34m[\u001b[0m\u001b[0;34m[\u001b[0m\u001b[0;34m'a'\u001b[0m\u001b[0;34m,\u001b[0m\u001b[0;34m'c'\u001b[0m\u001b[0;34m,\u001b[0m\u001b[0;34m'd'\u001b[0m\u001b[0;34m]\u001b[0m\u001b[0;34m]\u001b[0m\u001b[0;34m)\u001b[0m\u001b[0;31m# multiple label indexing\u001b[0m\u001b[0;34m\u001b[0m\u001b[0m\n\u001b[0;32m----> 7\u001b[0;31m \u001b[0mprint\u001b[0m\u001b[0;34m(\u001b[0m\u001b[0ms\u001b[0m\u001b[0;34m[\u001b[0m\u001b[0;34m'f'\u001b[0m\u001b[0;34m]\u001b[0m\u001b[0;34m)\u001b[0m\u001b[0;31m# Key Error\u001b[0m\u001b[0;34m\u001b[0m\u001b[0m\n\u001b[0m",
      "\u001b[0;32m~/anaconda3/lib/python3.5/site-packages/pandas/core/series.py\u001b[0m in \u001b[0;36m__getitem__\u001b[0;34m(self, key)\u001b[0m\n\u001b[1;32m    765\u001b[0m         \u001b[0mkey\u001b[0m \u001b[0;34m=\u001b[0m \u001b[0mcom\u001b[0m\u001b[0;34m.\u001b[0m\u001b[0m_apply_if_callable\u001b[0m\u001b[0;34m(\u001b[0m\u001b[0mkey\u001b[0m\u001b[0;34m,\u001b[0m \u001b[0mself\u001b[0m\u001b[0;34m)\u001b[0m\u001b[0;34m\u001b[0m\u001b[0m\n\u001b[1;32m    766\u001b[0m         \u001b[0;32mtry\u001b[0m\u001b[0;34m:\u001b[0m\u001b[0;34m\u001b[0m\u001b[0m\n\u001b[0;32m--> 767\u001b[0;31m             \u001b[0mresult\u001b[0m \u001b[0;34m=\u001b[0m \u001b[0mself\u001b[0m\u001b[0;34m.\u001b[0m\u001b[0mindex\u001b[0m\u001b[0;34m.\u001b[0m\u001b[0mget_value\u001b[0m\u001b[0;34m(\u001b[0m\u001b[0mself\u001b[0m\u001b[0;34m,\u001b[0m \u001b[0mkey\u001b[0m\u001b[0;34m)\u001b[0m\u001b[0;34m\u001b[0m\u001b[0m\n\u001b[0m\u001b[1;32m    768\u001b[0m \u001b[0;34m\u001b[0m\u001b[0m\n\u001b[1;32m    769\u001b[0m             \u001b[0;32mif\u001b[0m \u001b[0;32mnot\u001b[0m \u001b[0mis_scalar\u001b[0m\u001b[0;34m(\u001b[0m\u001b[0mresult\u001b[0m\u001b[0;34m)\u001b[0m\u001b[0;34m:\u001b[0m\u001b[0;34m\u001b[0m\u001b[0m\n",
      "\u001b[0;32m~/anaconda3/lib/python3.5/site-packages/pandas/core/indexes/base.py\u001b[0m in \u001b[0;36mget_value\u001b[0;34m(self, series, key)\u001b[0m\n\u001b[1;32m   3130\u001b[0m                     \u001b[0;32mraise\u001b[0m \u001b[0mInvalidIndexError\u001b[0m\u001b[0;34m(\u001b[0m\u001b[0mkey\u001b[0m\u001b[0;34m)\u001b[0m\u001b[0;34m\u001b[0m\u001b[0m\n\u001b[1;32m   3131\u001b[0m                 \u001b[0;32melse\u001b[0m\u001b[0;34m:\u001b[0m\u001b[0;34m\u001b[0m\u001b[0m\n\u001b[0;32m-> 3132\u001b[0;31m                     \u001b[0;32mraise\u001b[0m \u001b[0me1\u001b[0m\u001b[0;34m\u001b[0m\u001b[0m\n\u001b[0m\u001b[1;32m   3133\u001b[0m             \u001b[0;32mexcept\u001b[0m \u001b[0mException\u001b[0m\u001b[0;34m:\u001b[0m  \u001b[0;31m# pragma: no cover\u001b[0m\u001b[0;34m\u001b[0m\u001b[0m\n\u001b[1;32m   3134\u001b[0m                 \u001b[0;32mraise\u001b[0m \u001b[0me1\u001b[0m\u001b[0;34m\u001b[0m\u001b[0m\n",
      "\u001b[0;32m~/anaconda3/lib/python3.5/site-packages/pandas/core/indexes/base.py\u001b[0m in \u001b[0;36mget_value\u001b[0;34m(self, series, key)\u001b[0m\n\u001b[1;32m   3116\u001b[0m         \u001b[0;32mtry\u001b[0m\u001b[0;34m:\u001b[0m\u001b[0;34m\u001b[0m\u001b[0m\n\u001b[1;32m   3117\u001b[0m             return self._engine.get_value(s, k,\n\u001b[0;32m-> 3118\u001b[0;31m                                           tz=getattr(series.dtype, 'tz', None))\n\u001b[0m\u001b[1;32m   3119\u001b[0m         \u001b[0;32mexcept\u001b[0m \u001b[0mKeyError\u001b[0m \u001b[0;32mas\u001b[0m \u001b[0me1\u001b[0m\u001b[0;34m:\u001b[0m\u001b[0;34m\u001b[0m\u001b[0m\n\u001b[1;32m   3120\u001b[0m             \u001b[0;32mif\u001b[0m \u001b[0mlen\u001b[0m\u001b[0;34m(\u001b[0m\u001b[0mself\u001b[0m\u001b[0;34m)\u001b[0m \u001b[0;34m>\u001b[0m \u001b[0;36m0\u001b[0m \u001b[0;32mand\u001b[0m \u001b[0mself\u001b[0m\u001b[0;34m.\u001b[0m\u001b[0minferred_type\u001b[0m \u001b[0;32min\u001b[0m \u001b[0;34m[\u001b[0m\u001b[0;34m'integer'\u001b[0m\u001b[0;34m,\u001b[0m \u001b[0;34m'boolean'\u001b[0m\u001b[0;34m]\u001b[0m\u001b[0;34m:\u001b[0m\u001b[0;34m\u001b[0m\u001b[0m\n",
      "\u001b[0;32mpandas/_libs/index.pyx\u001b[0m in \u001b[0;36mpandas._libs.index.IndexEngine.get_value\u001b[0;34m()\u001b[0m\n",
      "\u001b[0;32mpandas/_libs/index.pyx\u001b[0m in \u001b[0;36mpandas._libs.index.IndexEngine.get_value\u001b[0;34m()\u001b[0m\n",
      "\u001b[0;32mpandas/_libs/index.pyx\u001b[0m in \u001b[0;36mpandas._libs.index.IndexEngine.get_loc\u001b[0;34m()\u001b[0m\n",
      "\u001b[0;32mpandas/_libs/hashtable_class_helper.pxi\u001b[0m in \u001b[0;36mpandas._libs.hashtable.PyObjectHashTable.get_item\u001b[0;34m()\u001b[0m\n",
      "\u001b[0;32mpandas/_libs/hashtable_class_helper.pxi\u001b[0m in \u001b[0;36mpandas._libs.hashtable.PyObjectHashTable.get_item\u001b[0;34m()\u001b[0m\n",
      "\u001b[0;31mKeyError\u001b[0m: 'f'"
     ]
    }
   ],
   "source": [
    "s = pd.Series([1,2,3,4,5],index = ['a','b','c','d','e'])\n",
    "\n",
    "print(s[:3]) # numeric indexing\n",
    "print(s[-3:])# numeric indexing \n",
    "print(s['a'])# label indexing\n",
    "print(s[['a','c','d']])# multiple label indexing\n",
    "print(s['f'])# Key Error"
   ]
  },
  {
   "cell_type": "markdown",
   "metadata": {},
   "source": [
    "### DataFrame\n",
    "\n",
    "Um DataFrame é uma estrutura de dados bidimensional, i.e., semelhante a uma tabela de Excel com linhas e colunas."
   ]
  },
  {
   "cell_type": "code",
   "execution_count": 12,
   "metadata": {},
   "outputs": [
    {
     "name": "stdout",
     "output_type": "stream",
     "text": [
      "Empty DataFrame\n",
      "Columns: []\n",
      "Index: []\n"
     ]
    }
   ],
   "source": [
    "# pandas.DataFrame(data,index,columns,dtype,copy)\n",
    "\n",
    "# DataFrame vazio\n",
    "df = pd.DataFrame()\n",
    "print(df)"
   ]
  },
  {
   "cell_type": "code",
   "execution_count": 13,
   "metadata": {},
   "outputs": [
    {
     "name": "stdout",
     "output_type": "stream",
     "text": [
      "   0\n",
      "0  1\n",
      "1  2\n",
      "2  3\n",
      "3  4\n",
      "4  5\n"
     ]
    }
   ],
   "source": [
    "# DataFrame com dados de coluna (5 linhas, 1 coluna)\n",
    "data = [1,2,3,4,5]\n",
    "df = pd.DataFrame(data)\n",
    "print(df)"
   ]
  },
  {
   "cell_type": "code",
   "execution_count": 15,
   "metadata": {},
   "outputs": [
    {
     "name": "stdout",
     "output_type": "stream",
     "text": [
      "     Name  Age\n",
      "0    Alex   10\n",
      "1     Bob   12\n",
      "2  Clarke   13\n"
     ]
    }
   ],
   "source": [
    "# DataFrame 3 linhas, 2 colunas\n",
    "# Usar listas de pares [val_col1, val_col2]\n",
    "# Definição das labels de coluna\n",
    "data = [['Alex',10],['Bob',12],['Clarke',13]]\n",
    "df = pd.DataFrame(data,columns=['Name','Age'])\n",
    "print(df)"
   ]
  },
  {
   "cell_type": "code",
   "execution_count": 17,
   "metadata": {},
   "outputs": [
    {
     "name": "stdout",
     "output_type": "stream",
     "text": [
      "     Name   Age\n",
      "0    Alex  10.0\n",
      "1     Bob  12.0\n",
      "2  Clarke  13.0\n"
     ]
    }
   ],
   "source": [
    "# Definição do tipo dos dados\n",
    "data = [['Alex',10],['Bob',12],['Clarke',13]]\n",
    "df = pd.DataFrame(data,columns=['Name','Age'], dtype=float)\n",
    "print(df)"
   ]
  },
  {
   "cell_type": "code",
   "execution_count": 19,
   "metadata": {},
   "outputs": [
    {
     "name": "stdout",
     "output_type": "stream",
     "text": [
      "   Age   Name\n",
      "0   28    Tom\n",
      "1   34   Jack\n",
      "2   29  Steve\n",
      "3   42  Ricky\n"
     ]
    }
   ],
   "source": [
    "# Usar dicionários para criar DataFrame\n",
    "# Key é label de coluna, lista são valores\n",
    "data = {'Name':['Tom','Jack','Steve','Ricky'], \n",
    "        'Age':[28,34,29,42]}\n",
    "df = pd.DataFrame(data)\n",
    "print(df)"
   ]
  },
  {
   "cell_type": "code",
   "execution_count": 20,
   "metadata": {},
   "outputs": [
    {
     "name": "stdout",
     "output_type": "stream",
     "text": [
      "       Age   Name\n",
      "rank1   28    Tom\n",
      "rank2   34   Jack\n",
      "rank3   29  Steve\n",
      "rank4   42  Ricky\n"
     ]
    }
   ],
   "source": [
    "# Definir labels para linhas\n",
    "df = pd.DataFrame(data, index=['rank1','rank2','rank3','rank4'])\n",
    "print(df)"
   ]
  },
  {
   "cell_type": "code",
   "execution_count": 22,
   "metadata": {},
   "outputs": [
    {
     "name": "stdout",
     "output_type": "stream",
     "text": [
      "   a   b     c\n",
      "0  1   2   NaN\n",
      "1  5  10  20.0\n"
     ]
    }
   ],
   "source": [
    "# Criação com lista de dicionários\n",
    "# Cada dicionário é uma linha\n",
    "# Cada key de dicionário define uma coluna\n",
    "data = [{'a':1, 'b':2},{'a':5, 'b':10, 'c':20}]\n",
    "df = pd.DataFrame(data)\n",
    "print(df)"
   ]
  },
  {
   "cell_type": "code",
   "execution_count": 23,
   "metadata": {},
   "outputs": [
    {
     "name": "stdout",
     "output_type": "stream",
     "text": [
      "        a   b     c\n",
      "first   1   2   NaN\n",
      "second  5  10  20.0\n"
     ]
    }
   ],
   "source": [
    "# Definir labels para linhas\n",
    "df = pd.DataFrame(data, index=['first','second'])\n",
    "print(df)"
   ]
  },
  {
   "cell_type": "code",
   "execution_count": 26,
   "metadata": {},
   "outputs": [
    {
     "name": "stdout",
     "output_type": "stream",
     "text": [
      "        a   b\n",
      "first   1   2\n",
      "second  5  10\n",
      "\n",
      "\n",
      "        a  b1\n",
      "first   1 NaN\n",
      "second  5 NaN\n"
     ]
    }
   ],
   "source": [
    "df1 = pd.DataFrame(data,index=['first','second'], \n",
    "                   columns=['a','b'])\n",
    "# Utilização de coluna que não existe nos dados, preenche\n",
    "# com NaN\n",
    "df2 = pd.DataFrame(data,index=['first','second'], \n",
    "                   columns=['a','b1'])\n",
    "print(df1)\n",
    "print('\\n')\n",
    "print(df2)"
   ]
  },
  {
   "cell_type": "code",
   "execution_count": 35,
   "metadata": {},
   "outputs": [
    {
     "name": "stdout",
     "output_type": "stream",
     "text": [
      "   one  two\n",
      "a  1.0    1\n",
      "b  2.0    2\n",
      "c  3.0    3\n",
      "d  NaN    4\n"
     ]
    }
   ],
   "source": [
    "# Utilização de Series para os dados\n",
    "d = {\n",
    "'one':pd.Series([1,2,3],index=['a','b','c']),\n",
    "'two':pd.Series([1,2,3,4],index=['a','b','c','d'])}\n",
    "df = pd.DataFrame(d)\n",
    "print(df)"
   ]
  },
  {
   "cell_type": "code",
   "execution_count": 29,
   "metadata": {},
   "outputs": [
    {
     "name": "stdout",
     "output_type": "stream",
     "text": [
      "a    1.0\n",
      "b    2.0\n",
      "c    3.0\n",
      "d    NaN\n",
      "Name: one, dtype: float64\n"
     ]
    }
   ],
   "source": [
    "# Selecção de coluna\n",
    "print(df['one'])"
   ]
  },
  {
   "cell_type": "code",
   "execution_count": 36,
   "metadata": {},
   "outputs": [
    {
     "name": "stdout",
     "output_type": "stream",
     "text": [
      "   one  two  three\n",
      "a  1.0    1   10.0\n",
      "b  2.0    2   20.0\n",
      "c  3.0    3   30.0\n",
      "d  NaN    4    NaN\n"
     ]
    }
   ],
   "source": [
    "# Adição de nova coluna\n",
    "df['three']=pd.Series([10,20,30],index=['a','b','c'])\n",
    "print(df)"
   ]
  },
  {
   "cell_type": "code",
   "execution_count": 37,
   "metadata": {},
   "outputs": [
    {
     "name": "stdout",
     "output_type": "stream",
     "text": [
      "   one  two  three\n",
      "a  1.0    1   10.0\n",
      "b  2.0    2   20.0\n",
      "c  3.0    3   30.0\n",
      "d  NaN    4    NaN\n",
      "\n",
      "\n",
      "   two  three\n",
      "a    1   10.0\n",
      "b    2   20.0\n",
      "c    3   30.0\n",
      "d    4    NaN\n"
     ]
    },
    {
     "data": {
      "text/plain": [
       "a    1\n",
       "b    2\n",
       "c    3\n",
       "d    4\n",
       "Name: two, dtype: int64"
      ]
     },
     "execution_count": 37,
     "metadata": {},
     "output_type": "execute_result"
    }
   ],
   "source": [
    "print(df)\n",
    "del df['one'] # eliminar coluna\n",
    "print('\\n')\n",
    "print(df)\n",
    "\n",
    "df.pop('two') # eliminar coluna retornando-a"
   ]
  },
  {
   "cell_type": "code",
   "execution_count": 39,
   "metadata": {},
   "outputs": [
    {
     "name": "stdout",
     "output_type": "stream",
     "text": [
      "one    2.0\n",
      "two    2.0\n",
      "Name: b, dtype: float64\n",
      "\n",
      "\n",
      "one    3.0\n",
      "two    3.0\n",
      "Name: c, dtype: float64\n",
      "\n",
      "\n",
      "   one  two\n",
      "c  3.0    3\n",
      "d  NaN    4\n"
     ]
    }
   ],
   "source": [
    "d = {'one':pd.Series([1,2,3],index=['a','b','c']), \n",
    "'two':pd.Series([1,2,3,4],index=['a','b','c','d'])}\n",
    "df = pd.DataFrame(d)\n",
    "\n",
    "print(df.loc['b']) # selecção de linha por label\n",
    "print('\\n')\n",
    "print(df.iloc[2]) # selecção de linha por número\n",
    "print('\\n')\n",
    "print(df[2:4]) # slicing"
   ]
  },
  {
   "cell_type": "code",
   "execution_count": 43,
   "metadata": {},
   "outputs": [
    {
     "name": "stdout",
     "output_type": "stream",
     "text": [
      "   a  b\n",
      "0  1  2\n",
      "1  3  4\n",
      "\n",
      "\n",
      "   a  b\n",
      "0  1  2\n",
      "1  3  4\n",
      "0  5  6\n",
      "1  7  8\n",
      "\n",
      "\n",
      "   a  b\n",
      "1  3  4\n",
      "1  7  8\n"
     ]
    }
   ],
   "source": [
    "df = pd.DataFrame([[1, 2], [3, 4]], columns = ['a','b'])\n",
    "df2 = pd.DataFrame([[5, 6], [7, 8]], columns = ['a','b'])\n",
    "print(df)\n",
    "print('\\n')\n",
    "\n",
    "# adicionar linhas\n",
    "df = df.append(df2)\n",
    "print(df)\n",
    "print('\\n')\n",
    "\n",
    "# eliminar linhas (elimina linhas duplicadas com\n",
    "# o mesmo índice)\n",
    "df = df.drop(0)\n",
    "print(df)"
   ]
  },
  {
   "cell_type": "markdown",
   "metadata": {},
   "source": [
    "### Panel\n",
    "\n",
    "Um Panel é um contentor de dados a 3D. Os eixos têm as seguintes designações:\n",
    "- items: \"DataFrame\"\n",
    "- major_axis: Linhas\n",
    "- minor_axis: Colunas"
   ]
  },
  {
   "cell_type": "code",
   "execution_count": 44,
   "metadata": {},
   "outputs": [
    {
     "name": "stdout",
     "output_type": "stream",
     "text": [
      "<class 'pandas.core.panel.Panel'>\n",
      "Dimensions: 0 (items) x 0 (major_axis) x 0 (minor_axis)\n",
      "Items axis: None\n",
      "Major_axis axis: None\n",
      "Minor_axis axis: None\n"
     ]
    },
    {
     "name": "stderr",
     "output_type": "stream",
     "text": [
      "/home/bchacal/anaconda3/lib/python3.5/site-packages/IPython/core/interactiveshell.py:2961: FutureWarning: \n",
      "Panel is deprecated and will be removed in a future version.\n",
      "The recommended way to represent these types of 3-dimensional data are with a MultiIndex on a DataFrame, via the Panel.to_frame() method\n",
      "Alternatively, you can use the xarray package http://xarray.pydata.org/en/stable/.\n",
      "Pandas provides a `.to_xarray()` method to help automate this conversion.\n",
      "\n",
      "  exec(code_obj, self.user_global_ns, self.user_ns)\n"
     ]
    }
   ],
   "source": [
    "# pandas.Panel(data,items,major_axis,minor_axis, dtype,copy)\n",
    "\n",
    "# Panel vazio\n",
    "p = pd.Panel()\n",
    "print(p)"
   ]
  },
  {
   "cell_type": "code",
   "execution_count": 45,
   "metadata": {},
   "outputs": [
    {
     "name": "stdout",
     "output_type": "stream",
     "text": [
      "<class 'pandas.core.panel.Panel'>\n",
      "Dimensions: 2 (items) x 4 (major_axis) x 5 (minor_axis)\n",
      "Items axis: 0 to 1\n",
      "Major_axis axis: 0 to 3\n",
      "Minor_axis axis: 0 to 4\n"
     ]
    },
    {
     "name": "stderr",
     "output_type": "stream",
     "text": [
      "/home/bchacal/anaconda3/lib/python3.5/site-packages/IPython/core/interactiveshell.py:2961: FutureWarning: \n",
      "Panel is deprecated and will be removed in a future version.\n",
      "The recommended way to represent these types of 3-dimensional data are with a MultiIndex on a DataFrame, via the Panel.to_frame() method\n",
      "Alternatively, you can use the xarray package http://xarray.pydata.org/en/stable/.\n",
      "Pandas provides a `.to_xarray()` method to help automate this conversion.\n",
      "\n",
      "  exec(code_obj, self.user_global_ns, self.user_ns)\n"
     ]
    }
   ],
   "source": [
    "# Criação a partir de 3D ndarray\n",
    "data = np.random.rand(2,4,5)\n",
    "print(pd.Panel(data))"
   ]
  },
  {
   "cell_type": "code",
   "execution_count": 47,
   "metadata": {},
   "outputs": [
    {
     "name": "stdout",
     "output_type": "stream",
     "text": [
      "                Item1     Item2\n",
      "major minor                    \n",
      "0     0     -0.741795  1.862480\n",
      "      1     -0.330404  0.616541\n",
      "1     0     -0.722695  0.186947\n",
      "      1      0.573993  1.232426\n",
      "2     0      1.217217 -0.177987\n",
      "      1      1.638060  0.809264\n",
      "3     0     -1.643586  1.080852\n",
      "      1      0.179590 -0.250093\n"
     ]
    },
    {
     "name": "stderr",
     "output_type": "stream",
     "text": [
      "/home/bchacal/anaconda3/lib/python3.5/site-packages/IPython/core/interactiveshell.py:2961: FutureWarning: \n",
      "Panel is deprecated and will be removed in a future version.\n",
      "The recommended way to represent these types of 3-dimensional data are with a MultiIndex on a DataFrame, via the Panel.to_frame() method\n",
      "Alternatively, you can use the xarray package http://xarray.pydata.org/en/stable/.\n",
      "Pandas provides a `.to_xarray()` method to help automate this conversion.\n",
      "\n",
      "  exec(code_obj, self.user_global_ns, self.user_ns)\n"
     ]
    }
   ],
   "source": [
    "data={'Item1':pd.DataFrame(np.random.randn(4,3)), \n",
    "'Item2':pd.DataFrame(np.random.randn(4,2))}\n",
    "print(pd.Panel(data).to_frame())"
   ]
  },
  {
   "cell_type": "markdown",
   "metadata": {},
   "source": [
    "## <a name=\"3\">3. IO Tools</a>\n",
    "\n",
    "O Pandas possui várias funções para lidar com a importação e exportação de dados nos formatos mais comuns (CSV, JSON, HTML, MS Excel, HDF5, ...)"
   ]
  },
  {
   "cell_type": "markdown",
   "metadata": {},
   "source": [
    "### read_csv\n",
    "\n",
    "Esta função permite carregar dados a partir de ficheiros CSV."
   ]
  },
  {
   "cell_type": "code",
   "execution_count": 50,
   "metadata": {},
   "outputs": [
    {
     "name": "stdout",
     "output_type": "stream",
     "text": [
      "   Serial    Name  Age       City  Salary\n",
      "0       1     Tom   28    Toronto   20000\n",
      "1       2     Lee   32  Hong Kong    3000\n",
      "2       3  Steven   43   Bay Area    8300\n",
      "3       4     Ram   38  Hyderabad    3900\n"
     ]
    }
   ],
   "source": [
    "# pandas.read_csv(filepath_or_buffer, sep='\\t', delimiter=None, header='infer',names=None, index_col=None, usecols=None)\n",
    "\n",
    "# Criação de DataFrame\n",
    "df = pd.read_csv('temp.csv')\n",
    "print(df)"
   ]
  },
  {
   "cell_type": "code",
   "execution_count": 56,
   "metadata": {},
   "outputs": [
    {
     "name": "stdout",
     "output_type": "stream",
     "text": [
      "          Name  Age       City  Salary\n",
      "Serial                                \n",
      "1          Tom   28    Toronto   20000\n",
      "2          Lee   32  Hong Kong    3000\n",
      "3       Steven   43   Bay Area    8300\n",
      "4          Ram   38  Hyderabad    3900\n"
     ]
    }
   ],
   "source": [
    "# Definir coluna de índice\n",
    "df=pd.read_csv(\"temp.csv\",index_col=['Serial'])\n",
    "print(df)"
   ]
  },
  {
   "cell_type": "code",
   "execution_count": 57,
   "metadata": {},
   "outputs": [
    {
     "name": "stdout",
     "output_type": "stream",
     "text": [
      "Name      object\n",
      "Age        int64\n",
      "City      object\n",
      "Salary     int64\n",
      "dtype: object\n",
      "\n",
      "\n",
      "Serial      int64\n",
      "Name       object\n",
      "Age         int64\n",
      "City       object\n",
      "Salary    float64\n",
      "dtype: object\n"
     ]
    }
   ],
   "source": [
    "# Tipo de dados das colunas\n",
    "print(df.dtypes)\n",
    "print('\\n')\n",
    "df = pd.read_csv(\"temp.csv\", dtype={'Salary': np.float64})\n",
    "print(df.dtypes)"
   ]
  },
  {
   "cell_type": "code",
   "execution_count": 58,
   "metadata": {},
   "outputs": [
    {
     "name": "stdout",
     "output_type": "stream",
     "text": [
      "        a       b    c          d       e\n",
      "0  Serial    Name  Age       City  Salary\n",
      "1       1     Tom   28    Toronto   20000\n",
      "2       2     Lee   32  Hong Kong    3000\n",
      "3       3  Steven   43   Bay Area    8300\n",
      "4       4     Ram   38  Hyderabad    3900\n"
     ]
    }
   ],
   "source": [
    "# adicionar cabeçalho extra\n",
    "df=pd.read_csv(\"temp.csv\", names=['a', 'b', 'c','d','e'])\n",
    "print(df)"
   ]
  },
  {
   "cell_type": "code",
   "execution_count": 60,
   "metadata": {},
   "outputs": [
    {
     "name": "stdout",
     "output_type": "stream",
     "text": [
      "   a       b   c          d      e\n",
      "0  1     Tom  28    Toronto  20000\n",
      "1  2     Lee  32  Hong Kong   3000\n",
      "2  3  Steven  43   Bay Area   8300\n",
      "3  4     Ram  38  Hyderabad   3900\n"
     ]
    }
   ],
   "source": [
    "# remover o cabeçalho original\n",
    "df=pd.read_csv(\"temp.csv\",names=['a','b','c','d','e'],\n",
    "               header=0)\n",
    "print(df) "
   ]
  },
  {
   "cell_type": "code",
   "execution_count": 61,
   "metadata": {},
   "outputs": [
    {
     "name": "stdout",
     "output_type": "stream",
     "text": [
      "   2     Lee  32  Hong Kong  3000\n",
      "0  3  Steven  43   Bay Area  8300\n",
      "1  4     Ram  38  Hyderabad  3900\n"
     ]
    }
   ],
   "source": [
    "# saltar linhas\n",
    "df = pd.read_csv(\"temp.csv\", skiprows=2)\n",
    "print(df)"
   ]
  },
  {
   "cell_type": "markdown",
   "metadata": {},
   "source": [
    "## <a name=\"4\">4. Basic Functionality</a>\n",
    "\n",
    "Obter algumas propriedades das Series e DataFrames, assim como consulta geral dos dados."
   ]
  },
  {
   "cell_type": "code",
   "execution_count": 64,
   "metadata": {},
   "outputs": [
    {
     "name": "stdout",
     "output_type": "stream",
     "text": [
      "       col1      col2      col3\n",
      "0 -1.000989 -1.317112  1.924642\n",
      "1 -0.866934  0.543849 -0.629094\n",
      "2 -0.376645  2.397551  0.306134\n",
      "3 -1.232027 -0.374571 -1.328185\n",
      "4 -0.181203 -0.335700 -1.193270\n",
      "5 -1.465190  2.417820 -0.036305\n",
      "6  0.061319 -1.195677 -1.553421\n"
     ]
    }
   ],
   "source": [
    "df=pd.DataFrame(np.random.randn(7,3),columns=['col1','col2','col3'])\n",
    "print(df)"
   ]
  },
  {
   "cell_type": "code",
   "execution_count": 69,
   "metadata": {},
   "outputs": [
    {
     "name": "stdout",
     "output_type": "stream",
     "text": [
      "             0         1         2         3         4         5         6\n",
      "col1 -1.000989 -0.866934 -0.376645 -1.232027 -0.181203 -1.465190  0.061319\n",
      "col2 -1.317112  0.543849  2.397551 -0.374571 -0.335700  2.417820 -1.195677\n",
      "col3  1.924642 -0.629094  0.306134 -1.328185 -1.193270 -0.036305 -1.553421\n"
     ]
    }
   ],
   "source": [
    "# Transpor o DataFrame\n",
    "print(df.T)"
   ]
  },
  {
   "cell_type": "code",
   "execution_count": 72,
   "metadata": {},
   "outputs": [
    {
     "name": "stdout",
     "output_type": "stream",
     "text": [
      "[RangeIndex(start=0, stop=7, step=1), Index(['col1', 'col2', 'col3'], dtype='object')]\n"
     ]
    }
   ],
   "source": [
    "# Labels das linhas e colunas\n",
    "print(df.axes)"
   ]
  },
  {
   "cell_type": "code",
   "execution_count": 73,
   "metadata": {},
   "outputs": [
    {
     "name": "stdout",
     "output_type": "stream",
     "text": [
      "col1    float64\n",
      "col2    float64\n",
      "col3    float64\n",
      "dtype: object\n"
     ]
    }
   ],
   "source": [
    "# Tipos de dados por coluna\n",
    "print(df.dtypes)"
   ]
  },
  {
   "cell_type": "code",
   "execution_count": 76,
   "metadata": {},
   "outputs": [
    {
     "name": "stdout",
     "output_type": "stream",
     "text": [
      "False\n",
      "True\n"
     ]
    }
   ],
   "source": [
    "# Verifica se DataFrame está vazio. True, se vazio\n",
    "print(df.empty)\n",
    "print(pd.DataFrame().empty)"
   ]
  },
  {
   "cell_type": "code",
   "execution_count": 77,
   "metadata": {},
   "outputs": [
    {
     "name": "stdout",
     "output_type": "stream",
     "text": [
      "2\n"
     ]
    }
   ],
   "source": [
    "# N.º de dimensões: 2\n",
    "print(df.ndim)"
   ]
  },
  {
   "cell_type": "code",
   "execution_count": 78,
   "metadata": {},
   "outputs": [
    {
     "name": "stdout",
     "output_type": "stream",
     "text": [
      "(7, 3)\n"
     ]
    }
   ],
   "source": [
    "# tuple (linhas, colunas)\n",
    "print(df.shape)"
   ]
  },
  {
   "cell_type": "code",
   "execution_count": 79,
   "metadata": {},
   "outputs": [
    {
     "name": "stdout",
     "output_type": "stream",
     "text": [
      "21\n"
     ]
    }
   ],
   "source": [
    "# N.º de elementos\n",
    "print(df.size) "
   ]
  },
  {
   "cell_type": "code",
   "execution_count": 80,
   "metadata": {},
   "outputs": [
    {
     "name": "stdout",
     "output_type": "stream",
     "text": [
      "[[-1.00098861 -1.31711183  1.92464192]\n",
      " [-0.86693423  0.54384907 -0.62909379]\n",
      " [-0.37664547  2.39755065  0.30613447]\n",
      " [-1.2320274  -0.37457127 -1.32818502]\n",
      " [-0.18120264 -0.33569988 -1.1932703 ]\n",
      " [-1.46518983  2.41781977 -0.03630513]\n",
      " [ 0.06131921 -1.19567683 -1.55342126]]\n"
     ]
    }
   ],
   "source": [
    "# arrays de dados por linha\n",
    "print(df.values)"
   ]
  },
  {
   "cell_type": "code",
   "execution_count": 81,
   "metadata": {},
   "outputs": [
    {
     "name": "stdout",
     "output_type": "stream",
     "text": [
      "       col1      col2      col3\n",
      "0 -1.000989 -1.317112  1.924642\n",
      "1 -0.866934  0.543849 -0.629094\n",
      "2 -0.376645  2.397551  0.306134\n"
     ]
    }
   ],
   "source": [
    "# lista as primeiras n linhas\n",
    "print(df.head(3)) "
   ]
  },
  {
   "cell_type": "code",
   "execution_count": 82,
   "metadata": {},
   "outputs": [
    {
     "name": "stdout",
     "output_type": "stream",
     "text": [
      "       col1      col2      col3\n",
      "5 -1.465190  2.417820 -0.036305\n",
      "6  0.061319 -1.195677 -1.553421\n"
     ]
    }
   ],
   "source": [
    "# lista as últimas n linhas\n",
    "print(df.tail(2))"
   ]
  },
  {
   "cell_type": "markdown",
   "metadata": {},
   "source": [
    "## <a name=\"5\">5. Descriptive Statistics</a>\n",
    "\n",
    "Conjunto de funções básicas para calcular estatísticas descriptivas nos dados."
   ]
  },
  {
   "cell_type": "code",
   "execution_count": 83,
   "metadata": {},
   "outputs": [
    {
     "name": "stdout",
     "output_type": "stream",
     "text": [
      "       col1      col2      col3\n",
      "0 -0.292334 -0.008294  0.324639\n",
      "1 -0.897116  0.700682  0.004931\n",
      "2 -1.476526 -0.247729  0.193164\n",
      "3  0.796245  1.841218 -1.408541\n",
      "4 -0.282888 -1.339862  0.496301\n",
      "5  0.126987 -1.563789  0.955917\n",
      "6 -1.209752 -0.442889  1.630338\n",
      "7 -0.312085 -0.438002  1.623130\n",
      "8 -0.514690  0.509973 -0.112652\n",
      "9  0.425040  0.784994 -0.918538\n"
     ]
    }
   ],
   "source": [
    "df = pd.DataFrame(np.random.randn(10,3),\n",
    "                  columns=['col1','col2','col3'])\n",
    "print(df)"
   ]
  },
  {
   "cell_type": "code",
   "execution_count": 84,
   "metadata": {},
   "outputs": [
    {
     "name": "stdout",
     "output_type": "stream",
     "text": [
      "col1   -3.637119\n",
      "col2   -0.203698\n",
      "col3    2.788687\n",
      "dtype: float64\n"
     ]
    }
   ],
   "source": [
    "# Soma/coluna\n",
    "print(df.sum())"
   ]
  },
  {
   "cell_type": "code",
   "execution_count": 85,
   "metadata": {},
   "outputs": [
    {
     "name": "stdout",
     "output_type": "stream",
     "text": [
      "col1    10\n",
      "col2    10\n",
      "col3    10\n",
      "dtype: int64\n"
     ]
    }
   ],
   "source": [
    "# Conta valores não nulos\n",
    "print(df.count()) "
   ]
  },
  {
   "cell_type": "code",
   "execution_count": 86,
   "metadata": {},
   "outputs": [
    {
     "name": "stdout",
     "output_type": "stream",
     "text": [
      "col1   -0.363712\n",
      "col2   -0.020370\n",
      "col3    0.278869\n",
      "dtype: float64\n"
     ]
    }
   ],
   "source": [
    "# Média/coluna\n",
    "print(df.mean())"
   ]
  },
  {
   "cell_type": "code",
   "execution_count": 87,
   "metadata": {},
   "outputs": [
    {
     "name": "stdout",
     "output_type": "stream",
     "text": [
      "col1   -0.302210\n",
      "col2   -0.128011\n",
      "col3    0.258901\n",
      "dtype: float64\n"
     ]
    }
   ],
   "source": [
    "# Mediana/coluna\n",
    "print(df.median()) "
   ]
  },
  {
   "cell_type": "code",
   "execution_count": 92,
   "metadata": {},
   "outputs": [
    {
     "name": "stdout",
     "output_type": "stream",
     "text": [
      "       col1      col2      col3\n",
      "0 -1.476526 -1.563789 -1.408541\n",
      "1 -1.209752 -1.339862 -0.918538\n",
      "2 -0.897116 -0.442889 -0.112652\n",
      "3 -0.514690 -0.438002  0.004931\n",
      "4 -0.312085 -0.247729  0.193164\n",
      "5 -0.292334 -0.008294  0.324639\n",
      "6 -0.282888  0.509973  0.496301\n",
      "7  0.126987  0.700682  0.955917\n",
      "8  0.425040  0.784994  1.623130\n",
      "9  0.796245  1.841218  1.630338\n"
     ]
    }
   ],
   "source": [
    "# Moda/coluna\n",
    "print(df.mode())"
   ]
  },
  {
   "cell_type": "code",
   "execution_count": 93,
   "metadata": {},
   "outputs": [
    {
     "name": "stdout",
     "output_type": "stream",
     "text": [
      "col1    0.705861\n",
      "col2    1.024330\n",
      "col3    0.980821\n",
      "dtype: float64\n"
     ]
    }
   ],
   "source": [
    "# Desvio padrão/coluna\n",
    "print(df.std())"
   ]
  },
  {
   "cell_type": "code",
   "execution_count": 94,
   "metadata": {},
   "outputs": [
    {
     "name": "stdout",
     "output_type": "stream",
     "text": [
      "col1   -1.476526\n",
      "col2   -1.563789\n",
      "col3   -1.408541\n",
      "dtype: float64\n"
     ]
    }
   ],
   "source": [
    "# Mínimo/coluna\n",
    "print(df.min())"
   ]
  },
  {
   "cell_type": "code",
   "execution_count": 95,
   "metadata": {},
   "outputs": [
    {
     "name": "stdout",
     "output_type": "stream",
     "text": [
      "col1    0.796245\n",
      "col2    1.841218\n",
      "col3    1.630338\n",
      "dtype: float64\n"
     ]
    }
   ],
   "source": [
    "# Máximo/coluna\n",
    "print(df.max())"
   ]
  },
  {
   "cell_type": "code",
   "execution_count": 96,
   "metadata": {},
   "outputs": [
    {
     "name": "stdout",
     "output_type": "stream",
     "text": [
      "       col1      col2      col3\n",
      "0  0.292334  0.008294  0.324639\n",
      "1  0.897116  0.700682  0.004931\n",
      "2  1.476526  0.247729  0.193164\n",
      "3  0.796245  1.841218  1.408541\n",
      "4  0.282888  1.339862  0.496301\n",
      "5  0.126987  1.563789  0.955917\n",
      "6  1.209752  0.442889  1.630338\n",
      "7  0.312085  0.438002  1.623130\n",
      "8  0.514690  0.509973  0.112652\n",
      "9  0.425040  0.784994  0.918538\n"
     ]
    }
   ],
   "source": [
    "# Módulo/coluna\n",
    "print(df.abs())"
   ]
  },
  {
   "cell_type": "markdown",
   "metadata": {},
   "source": [
    "## <a name=\"6\">6. Reindexing</a>\n",
    "\n",
    "Altera as etiquetas das linhas e das colunas. Permite que os dados se reorganizem de acordo com uma nova estrutura definida por etiquetas num determinado eixo.\n",
    "Permite:\n",
    "- Reordenar os dados para se conformarem com novas etiquetas\n",
    "- Inserir valores NA em locais onde existem novas etiquetas mas não existiam dados anteriormente"
   ]
  },
  {
   "cell_type": "code",
   "execution_count": 97,
   "metadata": {},
   "outputs": [
    {
     "name": "stdout",
     "output_type": "stream",
     "text": [
      "            A       C           D     x         y\n",
      "0  2016-01-01     Low   97.146023   0.0  0.106912\n",
      "1  2016-01-02    High  105.486726   1.0  0.594539\n",
      "2  2016-01-03     Low   96.165781   2.0  0.674577\n",
      "3  2016-01-04  Medium   93.550230   3.0  0.542959\n",
      "4  2016-01-05  Medium  103.768275   4.0  0.953546\n",
      "5  2016-01-06  Medium  102.491989   5.0  0.244946\n",
      "6  2016-01-07     Low  107.198508   6.0  0.012816\n",
      "7  2016-01-08  Medium  104.980073   7.0  0.835605\n",
      "8  2016-01-09  Medium   92.696962   8.0  0.657725\n",
      "9  2016-01-10    High  114.576374   9.0  0.592946\n",
      "10 2016-01-11     Low  106.056991  10.0  0.189991\n",
      "11 2016-01-12     Low  110.695673  11.0  0.526515\n",
      "12 2016-01-13     Low  118.346076  12.0  0.626858\n",
      "13 2016-01-14    High  109.741715  13.0  0.312207\n",
      "14 2016-01-15     Low  109.768523  14.0  0.145376\n",
      "15 2016-01-16     Low   87.686673  15.0  0.523807\n",
      "16 2016-01-17     Low   91.065250  16.0  0.164296\n",
      "17 2016-01-18  Medium  100.317443  17.0  0.134583\n",
      "18 2016-01-19  Medium   91.863033  18.0  0.961244\n",
      "19 2016-01-20    High  115.111362  19.0  0.391002\n",
      "\n",
      "\n",
      "           A       C   B\n",
      "0 2016-01-01     Low NaN\n",
      "2 2016-01-03     Low NaN\n",
      "5 2016-01-06  Medium NaN\n"
     ]
    }
   ],
   "source": [
    "N=20\n",
    "df = pd.DataFrame({\n",
    "'A': pd.date_range(start='2016-01-01', periods=N, freq='D'),\n",
    "'x': np.linspace(0,stop=N-1,num=N),\n",
    "'y': np.random.rand(N),\n",
    "'C': np.random.choice(['Low','Medium','High'],N).tolist(),\n",
    "'D': np.random.normal(100, 10, size=(N)).tolist()\n",
    "})\n",
    "print(df)\n",
    "print('\\n')\n",
    "\n",
    "dfr = df.reindex(index=[0,2,5], columns=['A','C','B'])\n",
    "print(dfr)"
   ]
  },
  {
   "cell_type": "code",
   "execution_count": 99,
   "metadata": {},
   "outputs": [
    {
     "name": "stdout",
     "output_type": "stream",
     "text": [
      "       col1      col2      col3\n",
      "0 -0.657347 -1.315795  0.819759\n",
      "1 -0.099421 -0.580595 -1.621334\n",
      "2 -0.981583 -1.226277 -0.091208\n",
      "3  1.288926  0.109813  0.950531\n",
      "4 -0.168769 -2.360442  0.701709\n",
      "5  0.470537  0.443811 -0.216040\n",
      "6  0.030663 -0.081361 -0.266730\n",
      "\n",
      "\n",
      "       col1      col2      col3\n",
      "0 -0.509885 -0.841530 -1.796163\n",
      "1 -0.529839  0.501913 -1.886954\n",
      "2  1.500667 -0.700569 -0.171058\n",
      "3  0.044033 -0.362432  0.185746\n",
      "4  0.361436  0.516453 -1.016316\n",
      "5 -1.956008  1.942793  0.717932\n",
      "6  0.634521 -0.127106 -0.600995\n",
      "7       NaN       NaN       NaN\n",
      "8       NaN       NaN       NaN\n",
      "9       NaN       NaN       NaN\n"
     ]
    }
   ],
   "source": [
    "df1 = pd.DataFrame(np.random.randn(10,3),\n",
    "                   columns=['col1','col2','col3'])\n",
    "df2 = pd.DataFrame(np.random.randn(7,3),\n",
    "                   columns=['col1','col2','col3'])\n",
    "\n",
    "df3 = df1.reindex_like(df2)\n",
    "df4 = df2.reindex_like(df1)\n",
    "print(df3)\n",
    "print('\\n')\n",
    "print(df4)"
   ]
  },
  {
   "cell_type": "code",
   "execution_count": 101,
   "metadata": {},
   "outputs": [
    {
     "name": "stdout",
     "output_type": "stream",
     "text": [
      "       col1      col2      col3\n",
      "0 -0.509885 -0.841530 -1.796163\n",
      "1 -0.529839  0.501913 -1.886954\n",
      "2  1.500667 -0.700569 -0.171058\n",
      "3  0.044033 -0.362432  0.185746\n",
      "4  0.361436  0.516453 -1.016316\n",
      "5 -1.956008  1.942793  0.717932\n",
      "6  0.634521 -0.127106 -0.600995\n",
      "7  0.634521 -0.127106 -0.600995\n",
      "8  0.634521 -0.127106 -0.600995\n",
      "9  0.634521 -0.127106 -0.600995\n"
     ]
    }
   ],
   "source": [
    "# Preencher linhas com valores NaN\n",
    "df5 = df2.reindex_like(df1, method='ffill')\n",
    "print(df5)"
   ]
  },
  {
   "cell_type": "code",
   "execution_count": 103,
   "metadata": {},
   "outputs": [
    {
     "name": "stdout",
     "output_type": "stream",
     "text": [
      "       col1      col2      col3\n",
      "0 -0.509885 -0.841530 -1.796163\n",
      "1 -0.529839  0.501913 -1.886954\n",
      "2  1.500667 -0.700569 -0.171058\n",
      "3  0.044033 -0.362432  0.185746\n",
      "4  0.361436  0.516453 -1.016316\n",
      "5 -1.956008  1.942793  0.717932\n",
      "6  0.634521 -0.127106 -0.600995\n",
      "7  0.634521 -0.127106 -0.600995\n",
      "8       NaN       NaN       NaN\n",
      "9       NaN       NaN       NaN\n"
     ]
    }
   ],
   "source": [
    "# Limitar o nº de linhas vazias a preencher\n",
    "df6 = df2.reindex_like(df1,method='ffill',limit=1)\n",
    "print(df6)"
   ]
  },
  {
   "cell_type": "code",
   "execution_count": 106,
   "metadata": {},
   "outputs": [
    {
     "name": "stdout",
     "output_type": "stream",
     "text": [
      "       col1      col2      col3\n",
      "0  0.495566 -0.923627  0.722435\n",
      "1  0.387544  0.617051  0.588286\n",
      "2 -0.627646  0.214535  0.686210\n",
      "3 -1.497654 -0.529735  1.388891\n",
      "4  0.488816  0.732352 -1.412332\n",
      "5  1.190739 -0.564405  0.010443\n",
      "\n",
      "\n",
      "              c1        c2      col3\n",
      "apple   0.495566 -0.923627  0.722435\n",
      "banana  0.387544  0.617051  0.588286\n",
      "durian -0.627646  0.214535  0.686210\n",
      "3      -1.497654 -0.529735  1.388891\n",
      "4       0.488816  0.732352 -1.412332\n",
      "5       1.190739 -0.564405  0.010443\n"
     ]
    }
   ],
   "source": [
    "df1 = pd.DataFrame(np.random.randn(6,3),columns=['col1','col2','col3'])\n",
    "print(df1)\n",
    "print('\\n')\n",
    "\n",
    "# Renomear etiquetas\n",
    "print(df1.rename(columns={'col1':'c1','col2':'c2'},\n",
    "                 index={0:'apple',1:'banana',2:'durian'}))"
   ]
  },
  {
   "cell_type": "markdown",
   "metadata": {},
   "source": [
    "## <a name=\"7\">7. Iteration</a>\n",
    "\n",
    "O resultado da iteração sobre as estruturas do Pandas depende da estrutura:\n",
    "- Series: retorna valores\n",
    "- DataFrame: retorna etiquetas das colunas\n",
    "- Panel: retorna etiquetas dos items\n",
    "\n",
    "Vamos ver outros métodos de iteração mais úteis."
   ]
  },
  {
   "cell_type": "code",
   "execution_count": 107,
   "metadata": {},
   "outputs": [
    {
     "name": "stdout",
     "output_type": "stream",
     "text": [
      "col1\n",
      "col2\n",
      "col3\n"
     ]
    }
   ],
   "source": [
    "df = pd.DataFrame(np.random.randn(4,3),\n",
    "                  columns= ['col1','col2','col3'])\n",
    "\n",
    "for col in df:\n",
    "    print(col)"
   ]
  },
  {
   "cell_type": "code",
   "execution_count": 108,
   "metadata": {},
   "outputs": [
    {
     "name": "stdout",
     "output_type": "stream",
     "text": [
      "col1 0   -0.400650\n",
      "1    0.258588\n",
      "2    1.481328\n",
      "3    0.878609\n",
      "Name: col1, dtype: float64\n",
      "col2 0   -1.456827\n",
      "1    0.456967\n",
      "2   -1.269294\n",
      "3   -1.456536\n",
      "Name: col2, dtype: float64\n",
      "col3 0    0.651036\n",
      "1   -1.686884\n",
      "2   -0.501869\n",
      "3    0.174751\n",
      "Name: col3, dtype: float64\n"
     ]
    }
   ],
   "source": [
    "# Itera sobre as colunas\n",
    "for key,value in df.iteritems():\n",
    "   print(key,value)"
   ]
  },
  {
   "cell_type": "code",
   "execution_count": 109,
   "metadata": {},
   "outputs": [
    {
     "name": "stdout",
     "output_type": "stream",
     "text": [
      "0 col1   -0.400650\n",
      "col2   -1.456827\n",
      "col3    0.651036\n",
      "Name: 0, dtype: float64\n",
      "1 col1    0.258588\n",
      "col2    0.456967\n",
      "col3   -1.686884\n",
      "Name: 1, dtype: float64\n",
      "2 col1    1.481328\n",
      "col2   -1.269294\n",
      "col3   -0.501869\n",
      "Name: 2, dtype: float64\n",
      "3 col1    0.878609\n",
      "col2   -1.456536\n",
      "col3    0.174751\n",
      "Name: 3, dtype: float64\n"
     ]
    }
   ],
   "source": [
    "# Itera sobre as linhas\n",
    "for row_index,row in df.iterrows():\n",
    "   print(row_index,row)"
   ]
  },
  {
   "cell_type": "code",
   "execution_count": 110,
   "metadata": {},
   "outputs": [
    {
     "name": "stdout",
     "output_type": "stream",
     "text": [
      "Pandas(Index=0, col1=-0.4006504736504428, col2=-1.4568267128018872, col3=0.6510361847664488)\n",
      "Pandas(Index=1, col1=0.25858819965700763, col2=0.456966802760406, col3=-1.6868843725034919)\n",
      "Pandas(Index=2, col1=1.4813277459358427, col2=-1.2692938593990548, col3=-0.5018689134769323)\n",
      "Pandas(Index=3, col1=0.8786086906398525, col2=-1.4565356105628127, col3=0.17475113712112833)\n"
     ]
    }
   ],
   "source": [
    "# Retorna um tuple com labels\n",
    "for row in df.itertuples():\n",
    "    print(row)"
   ]
  },
  {
   "cell_type": "markdown",
   "metadata": {},
   "source": [
    "## <a name=\"8\">8. Sorting</a>\n",
    "\n",
    "Existem duas formas possíveis de ordenação nos dataframes:\n",
    "- Etiqueta\n",
    "- Valor"
   ]
  },
  {
   "cell_type": "code",
   "execution_count": 123,
   "metadata": {},
   "outputs": [
    {
     "name": "stdout",
     "output_type": "stream",
     "text": [
      "       col2      col1\n",
      "1  1.831003  0.452762\n",
      "4 -0.312037 -0.137578\n",
      "6  0.843574  1.431535\n",
      "2  1.350547  0.363474\n",
      "3  0.994561  0.152132\n",
      "5  0.276696 -1.405733\n",
      "9  0.069254  0.130896\n",
      "8 -1.296511 -0.496756\n",
      "0 -1.902309 -1.840858\n",
      "7 -1.873371 -0.373824\n",
      "       col2      col1\n",
      "0 -1.902309 -1.840858\n",
      "1  1.831003  0.452762\n",
      "2  1.350547  0.363474\n",
      "3  0.994561  0.152132\n",
      "4 -0.312037 -0.137578\n",
      "5  0.276696 -1.405733\n",
      "6  0.843574  1.431535\n",
      "7 -1.873371 -0.373824\n",
      "8 -1.296511 -0.496756\n",
      "9  0.069254  0.130896\n",
      "       col2      col1\n",
      "9  0.069254  0.130896\n",
      "8 -1.296511 -0.496756\n",
      "7 -1.873371 -0.373824\n",
      "6  0.843574  1.431535\n",
      "5  0.276696 -1.405733\n",
      "4 -0.312037 -0.137578\n",
      "3  0.994561  0.152132\n",
      "2  1.350547  0.363474\n",
      "1  1.831003  0.452762\n",
      "0 -1.902309 -1.840858\n",
      "       col1      col2\n",
      "1  0.452762  1.831003\n",
      "4 -0.137578 -0.312037\n",
      "6  1.431535  0.843574\n",
      "2  0.363474  1.350547\n",
      "3  0.152132  0.994561\n",
      "5 -1.405733  0.276696\n",
      "9  0.130896  0.069254\n",
      "8 -0.496756 -1.296511\n",
      "0 -1.840858 -1.902309\n",
      "7 -0.373824 -1.873371\n"
     ]
    }
   ],
   "source": [
    "# Ordenar por label\n",
    "df = pd.DataFrame(np.random.randn(10, 2),index=\n",
    "[1,4,6,2,3,5,9,8,0,7],columns=['col2','col1'])\n",
    "\n",
    "print(df)\n",
    "print(df.sort_index())\n",
    "print(df.sort_index(ascending=False))\n",
    "print(df.sort_index(axis=1))"
   ]
  },
  {
   "cell_type": "code",
   "execution_count": 124,
   "metadata": {},
   "outputs": [
    {
     "name": "stdout",
     "output_type": "stream",
     "text": [
      "   col1  col2\n",
      "0     2     1\n",
      "1     1     3\n",
      "2     1     2\n",
      "3     1     4\n",
      "   col1  col2\n",
      "1     1     3\n",
      "2     1     2\n",
      "3     1     4\n",
      "0     2     1\n",
      "   col1  col2\n",
      "2     1     2\n",
      "1     1     3\n",
      "3     1     4\n",
      "0     2     1\n",
      "   col1  col2\n",
      "1     1     3\n",
      "2     1     2\n",
      "3     1     4\n",
      "0     2     1\n"
     ]
    }
   ],
   "source": [
    "# Ordenar por valor\n",
    "df = pd.DataFrame({'col1':[2,1,1,1],'col2':[1,3,2,4]})\n",
    "\n",
    "print(df)\n",
    "print(df.sort_values(by='col1'))\n",
    "print(df.sort_values(by=['col1','col2']))\n",
    "print(df.sort_values(by='col1',kind='mergesort'))"
   ]
  },
  {
   "cell_type": "markdown",
   "metadata": {},
   "source": [
    "## <a name=\"9\">9. Working with Text</a>\n",
    "\n",
    "Algumas funções de texto que funcionam nas Series e nas etiquetas das linhas e colunas dos DataFrames."
   ]
  },
  {
   "cell_type": "code",
   "execution_count": 125,
   "metadata": {},
   "outputs": [
    {
     "name": "stdout",
     "output_type": "stream",
     "text": [
      "0             Tom \n",
      "1     William Rick\n",
      "2             John\n",
      "3          Alber@t\n",
      "4              NaN\n",
      "5             1234\n",
      "6       SteveSmith\n",
      "dtype: object\n"
     ]
    }
   ],
   "source": [
    "s = pd.Series(['Tom ', ' William Rick', 'John', 'Alber@t', np.nan, '1234','SteveSmith'])\n",
    "print(s)"
   ]
  },
  {
   "cell_type": "code",
   "execution_count": 126,
   "metadata": {},
   "outputs": [
    {
     "name": "stdout",
     "output_type": "stream",
     "text": [
      "0             tom \n",
      "1     william rick\n",
      "2             john\n",
      "3          alber@t\n",
      "4              NaN\n",
      "5             1234\n",
      "6       stevesmith\n",
      "dtype: object\n"
     ]
    }
   ],
   "source": [
    "# minúsculas\n",
    "print(s.str.lower())"
   ]
  },
  {
   "cell_type": "code",
   "execution_count": 127,
   "metadata": {},
   "outputs": [
    {
     "name": "stdout",
     "output_type": "stream",
     "text": [
      "0             TOM \n",
      "1     WILLIAM RICK\n",
      "2             JOHN\n",
      "3          ALBER@T\n",
      "4              NaN\n",
      "5             1234\n",
      "6       STEVESMITH\n",
      "dtype: object\n"
     ]
    }
   ],
   "source": [
    "# maiúsculas\n",
    "print(s.str.upper())"
   ]
  },
  {
   "cell_type": "code",
   "execution_count": 128,
   "metadata": {},
   "outputs": [
    {
     "name": "stdout",
     "output_type": "stream",
     "text": [
      "0     4.0\n",
      "1    13.0\n",
      "2     4.0\n",
      "3     7.0\n",
      "4     NaN\n",
      "5     4.0\n",
      "6    10.0\n",
      "dtype: float64\n"
     ]
    }
   ],
   "source": [
    "# tamanho das strings\n",
    "print(s.str.len())"
   ]
  },
  {
   "cell_type": "code",
   "execution_count": 129,
   "metadata": {},
   "outputs": [
    {
     "name": "stdout",
     "output_type": "stream",
     "text": [
      "0             Tom\n",
      "1    William Rick\n",
      "2            John\n",
      "3         Alber@t\n",
      "4             NaN\n",
      "5            1234\n",
      "6      SteveSmith\n",
      "dtype: object\n"
     ]
    }
   ],
   "source": [
    "# elimina espaços nas pontas\n",
    "print(s.str.strip())"
   ]
  },
  {
   "cell_type": "code",
   "execution_count": 130,
   "metadata": {},
   "outputs": [
    {
     "name": "stdout",
     "output_type": "stream",
     "text": [
      "0              [Tom, ]\n",
      "1    [, William, Rick]\n",
      "2               [John]\n",
      "3            [Alber@t]\n",
      "4                  NaN\n",
      "5               [1234]\n",
      "6         [SteveSmith]\n",
      "dtype: object\n"
     ]
    }
   ],
   "source": [
    "# separa strings\n",
    "print(s.str.split(' '))"
   ]
  },
  {
   "cell_type": "code",
   "execution_count": 131,
   "metadata": {},
   "outputs": [
    {
     "name": "stdout",
     "output_type": "stream",
     "text": [
      "Tom _ William Rick_John_Alber@t_1234_SteveSmith\n"
     ]
    }
   ],
   "source": [
    "# concatena c/ sep\n",
    "print(s.str.cat(sep='_'))"
   ]
  },
  {
   "cell_type": "code",
   "execution_count": 132,
   "metadata": {},
   "outputs": [
    {
     "name": "stdout",
     "output_type": "stream",
     "text": [
      "0     True\n",
      "1     True\n",
      "2    False\n",
      "3    False\n",
      "4      NaN\n",
      "5    False\n",
      "6    False\n",
      "dtype: object\n"
     ]
    }
   ],
   "source": [
    "# procura padrão\n",
    "print(s.str.contains(' ')) "
   ]
  },
  {
   "cell_type": "code",
   "execution_count": 133,
   "metadata": {},
   "outputs": [
    {
     "name": "stdout",
     "output_type": "stream",
     "text": [
      "0             Tom \n",
      "1     William Rick\n",
      "2             John\n",
      "3          Alber$t\n",
      "4              NaN\n",
      "5             1234\n",
      "6       SteveSmith\n",
      "dtype: object\n"
     ]
    }
   ],
   "source": [
    "# substitui padrão\n",
    "print(s.str.replace('@','$'))"
   ]
  },
  {
   "cell_type": "code",
   "execution_count": 134,
   "metadata": {},
   "outputs": [
    {
     "name": "stdout",
     "output_type": "stream",
     "text": [
      "0    1.0\n",
      "1    1.0\n",
      "2    0.0\n",
      "3    0.0\n",
      "4    NaN\n",
      "5    0.0\n",
      "6    1.0\n",
      "dtype: float64\n"
     ]
    }
   ],
   "source": [
    "# n.º ocorrencias padrão\n",
    "print(s.str.count('m')) "
   ]
  },
  {
   "cell_type": "markdown",
   "metadata": {},
   "source": [
    "## <a name=\"10\">10. Indexing and Selection</a>\n",
    "\n",
    "Os operadores de indexação \"\\[ \\]\" e \".\" também podem ser usados nas Series, DataFrames e Panels. No entanto, existem funções mais genéricas que oferecem mais versatilidade no caso de não se conhecer de antemão os dados. "
   ]
  },
  {
   "cell_type": "markdown",
   "metadata": {},
   "source": [
    "### loc()\n",
    "\n",
    "Indexação por etiqueta"
   ]
  },
  {
   "cell_type": "code",
   "execution_count": 136,
   "metadata": {},
   "outputs": [
    {
     "name": "stdout",
     "output_type": "stream",
     "text": [
      "a    0.025169\n",
      "b   -1.173228\n",
      "c    0.487048\n",
      "d   -0.469858\n",
      "e    0.746691\n",
      "f   -0.390408\n",
      "g    0.166926\n",
      "h    0.683671\n",
      "Name: A, dtype: float64\n",
      "          A         C\n",
      "a  0.025169  1.012178\n",
      "b -1.173228  0.746467\n",
      "c  0.487048 -0.372222\n",
      "d -0.469858  2.062630\n",
      "e  0.746691  0.252038\n",
      "f -0.390408 -1.166142\n",
      "g  0.166926  1.127220\n",
      "h  0.683671 -0.086850\n",
      "          A         C\n",
      "a  0.025169  1.012178\n",
      "b -1.173228  0.746467\n",
      "f -0.390408 -1.166142\n",
      "h  0.683671 -0.086850\n",
      "          A         B         C         D\n",
      "a  0.025169 -0.146394  1.012178  0.059911\n",
      "b -1.173228 -0.439589  0.746467 -0.844318\n",
      "c  0.487048  0.663720 -0.372222 -1.669306\n",
      "d -0.469858 -0.278433  2.062630  1.129242\n",
      "e  0.746691  1.386929  0.252038 -0.546833\n",
      "f -0.390408  0.683388 -1.166142  0.686161\n",
      "g  0.166926  0.779623  1.127220  0.775841\n",
      "h  0.683671 -1.065647 -0.086850  0.714243\n",
      "A     True\n",
      "B    False\n",
      "C     True\n",
      "D     True\n",
      "Name: a, dtype: bool\n"
     ]
    }
   ],
   "source": [
    "df = pd.DataFrame(np.random.randn(8, 4),\n",
    "index = ['a','b','c','d','e','f','g','h'], \n",
    "columns = ['A', 'B', 'C', 'D'])\n",
    "\n",
    "# Coluna A, todas as linhas\n",
    "print(df.loc[:,'A'])\n",
    "# Colunas A e C, todas as linhas\n",
    "print(df.loc[:,['A','C']])\n",
    "# Colunas A e C, linhas a, b, f e h\n",
    "print(df.loc[['a','b','f','h'],['A','C']])\n",
    "# Todas as colunas, linhas da 'a' à 'h'\n",
    "print(df.loc['a':'h'])\n",
    "# Valor lógico de todas as colunas na linha 'a' para a\n",
    "# condição > 0\n",
    "print(df.loc['a']>0)"
   ]
  },
  {
   "cell_type": "markdown",
   "metadata": {},
   "source": [
    "### iloc()\n",
    "\n",
    "Indexação por valor"
   ]
  },
  {
   "cell_type": "code",
   "execution_count": 138,
   "metadata": {},
   "outputs": [
    {
     "name": "stdout",
     "output_type": "stream",
     "text": [
      "          A         B         C         D\n",
      "0 -0.963261  1.718658 -1.269569 -0.465942\n",
      "1 -1.078738 -0.276961  0.662877  1.182864\n",
      "2  1.026672 -0.025975 -0.414390 -0.313433\n",
      "3  0.102402 -0.295035  0.868335  0.693255\n",
      "          C         D\n",
      "1  0.662877  1.182864\n",
      "2 -0.414390 -0.313433\n",
      "3  0.868335  0.693255\n",
      "4  1.126266  0.064687\n",
      "          B         D\n",
      "1 -0.276961  1.182864\n",
      "3 -0.295035  0.693255\n",
      "5  1.156635 -0.399563\n",
      "          A         B         C         D\n",
      "1 -1.078738 -0.276961  0.662877  1.182864\n",
      "2  1.026672 -0.025975 -0.414390 -0.313433\n",
      "          B         C\n",
      "0  1.718658 -1.269569\n",
      "1 -0.276961  0.662877\n",
      "2 -0.025975 -0.414390\n",
      "3 -0.295035  0.868335\n",
      "4  0.735872  1.126266\n",
      "5  1.156635 -0.135954\n",
      "6  0.894096  0.095599\n",
      "7 -0.873469 -0.535234\n"
     ]
    }
   ],
   "source": [
    "df = pd.DataFrame(np.random.randn(8, 4),\n",
    "                  columns = ['A', 'B', 'C', 'D'])\n",
    "\n",
    "# Linhas 0-3, todas as colunas\n",
    "print(df.iloc[:4])\n",
    "# Linhas 1-4, colunas 2-3\n",
    "print(df.iloc[1:5, 2:4])\n",
    "# Linhas 1,3 e 5, colunas 1 e 3 \n",
    "print(df.iloc[[1, 3, 5], [1, 3]])\n",
    "# Linhas 1-2, todas as colunas\n",
    "print(df.iloc[1:3, :])\n",
    "# Todas as linhas, colunas 1-2\n",
    "print(df.iloc[:,1:3])"
   ]
  },
  {
   "cell_type": "markdown",
   "metadata": {},
   "source": [
    "### ix()\n",
    "\n",
    "Indexação por etiqueta e valor."
   ]
  },
  {
   "cell_type": "code",
   "execution_count": 139,
   "metadata": {},
   "outputs": [
    {
     "name": "stdout",
     "output_type": "stream",
     "text": [
      "          A         B         C         D\n",
      "0  0.445036  0.202964 -0.480853 -1.113782\n",
      "1 -0.497356  0.241113 -0.577457  1.357099\n",
      "2 -0.523357  0.208507  0.573325  0.380980\n",
      "3 -0.283565 -0.242833 -1.290668  0.487276\n",
      "4 -1.444849 -0.905692  0.381420  0.587066\n",
      "0    0.445036\n",
      "1   -0.497356\n",
      "2   -0.523357\n",
      "3   -0.283565\n",
      "4   -1.444849\n",
      "5    0.922393\n",
      "6    1.000769\n",
      "7   -0.487146\n",
      "Name: A, dtype: float64\n"
     ]
    },
    {
     "name": "stderr",
     "output_type": "stream",
     "text": [
      "/home/bchacal/anaconda3/lib/python3.5/site-packages/ipykernel_launcher.py:4: DeprecationWarning: \n",
      ".ix is deprecated. Please use\n",
      ".loc for label based indexing or\n",
      ".iloc for positional indexing\n",
      "\n",
      "See the documentation here:\n",
      "http://pandas.pydata.org/pandas-docs/stable/indexing.html#ix-indexer-is-deprecated\n",
      "  after removing the cwd from sys.path.\n",
      "/home/bchacal/anaconda3/lib/python3.5/site-packages/ipykernel_launcher.py:6: DeprecationWarning: \n",
      ".ix is deprecated. Please use\n",
      ".loc for label based indexing or\n",
      ".iloc for positional indexing\n",
      "\n",
      "See the documentation here:\n",
      "http://pandas.pydata.org/pandas-docs/stable/indexing.html#ix-indexer-is-deprecated\n",
      "  \n"
     ]
    }
   ],
   "source": [
    "df = pd.DataFrame(np.random.randn(8, 4), columns = ['A', 'B', 'C', 'D'])\n",
    "\n",
    "# Selecção por valor\n",
    "print(df.ix[:4])\n",
    "# Selecção por etiqueta\n",
    "print(df.ix[:,'A'])"
   ]
  },
  {
   "cell_type": "markdown",
   "metadata": {},
   "source": [
    "## <a name=\"11\">11. Statistical Functions</a>\n",
    "\n",
    "Alguns métodos estatísticos que permitem obter informação sobre os dados."
   ]
  },
  {
   "cell_type": "markdown",
   "metadata": {},
   "source": [
    "### pct_change()"
   ]
  },
  {
   "cell_type": "code",
   "execution_count": 140,
   "metadata": {},
   "outputs": [
    {
     "name": "stdout",
     "output_type": "stream",
     "text": [
      "0         NaN\n",
      "1    1.000000\n",
      "2    0.500000\n",
      "3    0.333333\n",
      "4    0.250000\n",
      "5   -0.200000\n",
      "dtype: float64\n",
      "          0         1\n",
      "0       NaN       NaN\n",
      "1 -1.247297  0.152336\n",
      "2 -0.172360  1.073357\n",
      "3  4.688243 -1.810981\n",
      "4 -1.160222 -1.107911\n"
     ]
    }
   ],
   "source": [
    "# Calcula diferença percentual entre elementos consecutivos \n",
    "s = pd.Series([1,2,3,4,5,4])\n",
    "print(s.pct_change())\n",
    "df = pd.DataFrame(np.random.randn(5, 2))\n",
    "print(df.pct_change())"
   ]
  },
  {
   "cell_type": "markdown",
   "metadata": {},
   "source": [
    "### cov()"
   ]
  },
  {
   "cell_type": "code",
   "execution_count": 141,
   "metadata": {},
   "outputs": [
    {
     "name": "stdout",
     "output_type": "stream",
     "text": [
      "-0.14849653955327852\n"
     ]
    }
   ],
   "source": [
    "# Covariância\n",
    "s1 = pd.Series(np.random.randn(10))\n",
    "s2 = pd.Series(np.random.randn(10))\n",
    "print(s1.cov(s2))"
   ]
  },
  {
   "cell_type": "markdown",
   "metadata": {},
   "source": [
    "### corr()"
   ]
  },
  {
   "cell_type": "code",
   "execution_count": 142,
   "metadata": {},
   "outputs": [
    {
     "name": "stdout",
     "output_type": "stream",
     "text": [
      "0.4161670603834546\n",
      "          a         b         c         d         e\n",
      "a  1.000000  0.416167 -0.073087 -0.519463 -0.111332\n",
      "b  0.416167  1.000000  0.036091  0.249141 -0.287407\n",
      "c -0.073087  0.036091  1.000000 -0.288529 -0.039944\n",
      "d -0.519463  0.249141 -0.288529  1.000000  0.191484\n",
      "e -0.111332 -0.287407 -0.039944  0.191484  1.000000\n"
     ]
    }
   ],
   "source": [
    "# Correlação\n",
    "f = pd.DataFrame(np.random.randn(10, 5), columns=['a', 'b', 'c', 'd', 'e'])\n",
    "print(f['a'].corr(f['b']))\n",
    "print(f.corr())"
   ]
  },
  {
   "cell_type": "markdown",
   "metadata": {},
   "source": [
    "### rank()"
   ]
  },
  {
   "cell_type": "code",
   "execution_count": 147,
   "metadata": {},
   "outputs": [
    {
     "name": "stdout",
     "output_type": "stream",
     "text": [
      "a   -0.473461\n",
      "b   -0.624545\n",
      "c   -0.940991\n",
      "d   -0.289528\n",
      "e   -0.069135\n",
      "dtype: float64\n",
      "a    3.0\n",
      "b    2.0\n",
      "c    1.0\n",
      "d    4.0\n",
      "e    5.0\n",
      "dtype: float64\n"
     ]
    }
   ],
   "source": [
    "# Ranking entre elementos\n",
    "s = pd.Series(np.random.np.random.randn(5), \n",
    "              index=list('abcde'))\n",
    "print(s)\n",
    "print(s.rank(method='average'))\n",
    "# Métodos: average, min, max, first, dense"
   ]
  },
  {
   "cell_type": "markdown",
   "metadata": {},
   "source": [
    "## <a name=\"12\">12. Window Functions</a>\n",
    "\n",
    "O Pandas permite fazer cálculos estatísticos através de vários tipos de janelas:\n",
    "- rolling\n",
    "- expanding\n",
    "- exponentially weighted\n",
    "\n",
    "Algumas das operações possíveis são:\n",
    "- sum\n",
    "- mean\n",
    "- median\n",
    "- variance\n",
    "- covariance\n",
    "- correlation"
   ]
  },
  {
   "cell_type": "code",
   "execution_count": 148,
   "metadata": {},
   "outputs": [
    {
     "name": "stdout",
     "output_type": "stream",
     "text": [
      "              A    B    C    D\n",
      "2000-01-01  1.0  1.0  1.0  1.0\n",
      "2000-01-02  1.0  1.0  1.0  1.0\n",
      "2000-01-03  1.0  1.0  1.0  1.0\n",
      "2000-01-04  1.0  1.0  1.0  1.0\n",
      "2000-01-05  1.0  1.0  1.0  1.0\n",
      "2000-01-06  1.0  1.0  1.0  1.0\n",
      "2000-01-07  1.0  1.0  1.0  1.0\n",
      "2000-01-08  1.0  1.0  1.0  1.0\n",
      "2000-01-09  1.0  1.0  1.0  1.0\n",
      "2000-01-10  1.0  1.0  1.0  1.0\n",
      "              A    B    C    D\n",
      "2000-01-01  NaN  NaN  NaN  NaN\n",
      "2000-01-02  NaN  NaN  NaN  NaN\n",
      "2000-01-03  3.0  3.0  3.0  3.0\n",
      "2000-01-04  3.0  3.0  3.0  3.0\n",
      "2000-01-05  3.0  3.0  3.0  3.0\n",
      "2000-01-06  3.0  3.0  3.0  3.0\n",
      "2000-01-07  3.0  3.0  3.0  3.0\n",
      "2000-01-08  3.0  3.0  3.0  3.0\n",
      "2000-01-09  3.0  3.0  3.0  3.0\n",
      "2000-01-10  3.0  3.0  3.0  3.0\n",
      "               A     B     C     D\n",
      "2000-01-01   NaN   NaN   NaN   NaN\n",
      "2000-01-02   NaN   NaN   NaN   NaN\n",
      "2000-01-03   3.0   3.0   3.0   3.0\n",
      "2000-01-04   4.0   4.0   4.0   4.0\n",
      "2000-01-05   5.0   5.0   5.0   5.0\n",
      "2000-01-06   6.0   6.0   6.0   6.0\n",
      "2000-01-07   7.0   7.0   7.0   7.0\n",
      "2000-01-08   8.0   8.0   8.0   8.0\n",
      "2000-01-09   9.0   9.0   9.0   9.0\n",
      "2000-01-10  10.0  10.0  10.0  10.0\n",
      "              A    B    C    D\n",
      "2000-01-01  1.0  1.0  1.0  1.0\n",
      "2000-01-02  1.0  1.0  1.0  1.0\n",
      "2000-01-03  1.0  1.0  1.0  1.0\n",
      "2000-01-04  1.0  1.0  1.0  1.0\n",
      "2000-01-05  1.0  1.0  1.0  1.0\n",
      "2000-01-06  1.0  1.0  1.0  1.0\n",
      "2000-01-07  1.0  1.0  1.0  1.0\n",
      "2000-01-08  1.0  1.0  1.0  1.0\n",
      "2000-01-09  1.0  1.0  1.0  1.0\n",
      "2000-01-10  1.0  1.0  1.0  1.0\n"
     ]
    }
   ],
   "source": [
    "df = pd.DataFrame(np.ones([10,4]),\n",
    "index = pd.date_range('1/1/2000', periods=10),\n",
    "columns = ['A', 'B', 'C', 'D'])\n",
    "\n",
    "print(df)\n",
    "print(df.rolling(window=3).sum())\n",
    "print(df.expanding(min_periods=3).sum())\n",
    "print(df.ewm(com=0.5).mean())"
   ]
  },
  {
   "cell_type": "markdown",
   "metadata": {},
   "source": [
    "## <a name=\"13\">13. Aggregations</a>\n",
    "\n",
    "As aggregations permitem aplicar funções às janelas rolling, expanding e ewm."
   ]
  },
  {
   "cell_type": "code",
   "execution_count": 150,
   "metadata": {},
   "outputs": [
    {
     "name": "stdout",
     "output_type": "stream",
     "text": [
      "              A    B    C    D\n",
      "2000-01-01  1.0  1.0  1.0  1.0\n",
      "2000-01-02  2.0  2.0  2.0  2.0\n",
      "2000-01-03  3.0  3.0  3.0  3.0\n",
      "2000-01-04  3.0  3.0  3.0  3.0\n",
      "2000-01-05  3.0  3.0  3.0  3.0\n",
      "2000-01-06  3.0  3.0  3.0  3.0\n",
      "2000-01-07  3.0  3.0  3.0  3.0\n",
      "2000-01-08  3.0  3.0  3.0  3.0\n",
      "2000-01-09  3.0  3.0  3.0  3.0\n",
      "2000-01-10  3.0  3.0  3.0  3.0\n"
     ]
    }
   ],
   "source": [
    "df = pd.DataFrame(np.ones([10,4]),\n",
    "index = pd.date_range('1/1/2000', periods=10),\n",
    "columns = ['A', 'B', 'C', 'D'])\n",
    "r = df.rolling(window=3, min_periods=1).sum()\n",
    "print(r)"
   ]
  },
  {
   "cell_type": "code",
   "execution_count": 158,
   "metadata": {},
   "outputs": [
    {
     "name": "stdout",
     "output_type": "stream",
     "text": [
      "A    27.0\n",
      "B    27.0\n",
      "C    27.0\n",
      "D    27.0\n",
      "dtype: float64\n"
     ]
    }
   ],
   "source": [
    "# Aplicar a soma sobre todas as colunas\n",
    "print(r.aggregate(np.sum))"
   ]
  },
  {
   "cell_type": "code",
   "execution_count": 157,
   "metadata": {},
   "outputs": [
    {
     "name": "stdout",
     "output_type": "stream",
     "text": [
      "27.0\n"
     ]
    }
   ],
   "source": [
    "# Aplicar a soma à coluna A\n",
    "print(r['A'].aggregate(np.sum))"
   ]
  },
  {
   "cell_type": "code",
   "execution_count": 159,
   "metadata": {},
   "outputs": [
    {
     "name": "stdout",
     "output_type": "stream",
     "text": [
      "A    27.0\n",
      "B    27.0\n",
      "dtype: float64\n"
     ]
    }
   ],
   "source": [
    "# Aplicar a soma a duas colunas A, e B\n",
    "print(r[['A','B']].aggregate(np.sum))"
   ]
  },
  {
   "cell_type": "code",
   "execution_count": 160,
   "metadata": {},
   "outputs": [
    {
     "name": "stdout",
     "output_type": "stream",
     "text": [
      "sum     27.0\n",
      "mean     2.7\n",
      "Name: A, dtype: float64\n"
     ]
    }
   ],
   "source": [
    "# Aplicação de diferentes funções à coluna A\n",
    "print(r['A'].aggregate([np.sum,np.mean]))"
   ]
  },
  {
   "cell_type": "code",
   "execution_count": 161,
   "metadata": {},
   "outputs": [
    {
     "name": "stdout",
     "output_type": "stream",
     "text": [
      "         A     B\n",
      "sum   27.0  27.0\n",
      "mean   2.7   2.7\n"
     ]
    }
   ],
   "source": [
    "# Aplicar 2 funções a duas colunas\n",
    "print(r[['A','B']].aggregate([np.sum,np.mean]))"
   ]
  },
  {
   "cell_type": "code",
   "execution_count": 162,
   "metadata": {},
   "outputs": [
    {
     "name": "stdout",
     "output_type": "stream",
     "text": [
      "A    27.0\n",
      "B     2.7\n",
      "dtype: float64\n"
     ]
    }
   ],
   "source": [
    "# Aplicação de funções diferentes entre colunas\n",
    "print(r.aggregate({'A' : np.sum,'B' : np.mean}))"
   ]
  },
  {
   "cell_type": "markdown",
   "metadata": {},
   "source": [
    "## <a name=\"14\">14. Missing Data</a>\n",
    "\n",
    "Como é normal existirem valores em falta em conjuntos reais de dados, o Pandas vem preparado com funções para lidar com valores em falta."
   ]
  },
  {
   "cell_type": "code",
   "execution_count": 164,
   "metadata": {},
   "outputs": [
    {
     "name": "stdout",
     "output_type": "stream",
     "text": [
      "        one       two     three\n",
      "a  1.440083 -0.984140 -1.013693\n",
      "c -0.747459 -0.270830  0.693346\n",
      "e  0.473234 -0.420926  0.230550\n",
      "f -0.383257 -1.418398  0.717404\n",
      "h  2.081058  0.453935 -0.268048\n",
      "\n",
      "\n",
      "        one       two     three\n",
      "a  1.440083 -0.984140 -1.013693\n",
      "b       NaN       NaN       NaN\n",
      "c -0.747459 -0.270830  0.693346\n",
      "d       NaN       NaN       NaN\n",
      "e  0.473234 -0.420926  0.230550\n",
      "f -0.383257 -1.418398  0.717404\n",
      "g       NaN       NaN       NaN\n",
      "h  2.081058  0.453935 -0.268048\n"
     ]
    }
   ],
   "source": [
    "df = pd.DataFrame(np.random.randn(5, 3), \n",
    "index=['a', 'c', 'e', 'f','h'],\n",
    "columns=['one', 'two', 'three'])\n",
    "print(df)\n",
    "print('\\n')\n",
    "\n",
    "df = df.reindex(['a', 'b', 'c', 'd', 'e', 'f', 'g', 'h'])\n",
    "print(df)"
   ]
  },
  {
   "cell_type": "code",
   "execution_count": 165,
   "metadata": {},
   "outputs": [
    {
     "name": "stdout",
     "output_type": "stream",
     "text": [
      "a    False\n",
      "b     True\n",
      "c    False\n",
      "d     True\n",
      "e    False\n",
      "f    False\n",
      "g     True\n",
      "h    False\n",
      "Name: one, dtype: bool\n"
     ]
    }
   ],
   "source": [
    "# Verificar onde existem valores nulos\n",
    "print(df['one'].isnull())"
   ]
  },
  {
   "cell_type": "code",
   "execution_count": 166,
   "metadata": {},
   "outputs": [
    {
     "name": "stdout",
     "output_type": "stream",
     "text": [
      "a     True\n",
      "b    False\n",
      "c     True\n",
      "d    False\n",
      "e     True\n",
      "f     True\n",
      "g    False\n",
      "h     True\n",
      "Name: one, dtype: bool\n"
     ]
    }
   ],
   "source": [
    "# Verificar onde existem valores não nulos\n",
    "print(df['one'].notnull())"
   ]
  },
  {
   "cell_type": "code",
   "execution_count": 172,
   "metadata": {},
   "outputs": [
    {
     "name": "stdout",
     "output_type": "stream",
     "text": [
      "        one       two     three\n",
      "a  1.440083 -0.984140 -1.013693\n",
      "b  0.000000  0.000000  0.000000\n",
      "c -0.747459 -0.270830  0.693346\n",
      "d  0.000000  0.000000  0.000000\n",
      "e  0.473234 -0.420926  0.230550\n",
      "f -0.383257 -1.418398  0.717404\n",
      "g  0.000000  0.000000  0.000000\n",
      "h  2.081058  0.453935 -0.268048\n",
      "        one       two     three\n",
      "a  1.440083 -0.984140 -1.013693\n",
      "b  5.000000  5.000000  5.000000\n",
      "c -0.747459 -0.270830  0.693346\n",
      "d  5.000000  5.000000  5.000000\n",
      "e  0.473234 -0.420926  0.230550\n",
      "f -0.383257 -1.418398  0.717404\n",
      "g  5.000000  5.000000  5.000000\n",
      "h  2.081058  0.453935 -0.268048\n"
     ]
    }
   ],
   "source": [
    "# Substituir NaN por 0 ou outro valor\n",
    "print(df.fillna(0))\n",
    "print(df.fillna(5))"
   ]
  },
  {
   "cell_type": "code",
   "execution_count": 173,
   "metadata": {},
   "outputs": [
    {
     "name": "stdout",
     "output_type": "stream",
     "text": [
      "        one       two     three\n",
      "a  1.440083 -0.984140 -1.013693\n",
      "b  1.440083 -0.984140 -1.013693\n",
      "c -0.747459 -0.270830  0.693346\n",
      "d -0.747459 -0.270830  0.693346\n",
      "e  0.473234 -0.420926  0.230550\n",
      "f -0.383257 -1.418398  0.717404\n",
      "g -0.383257 -1.418398  0.717404\n",
      "h  2.081058  0.453935 -0.268048\n"
     ]
    }
   ],
   "source": [
    "# Substituir valores NaN pelo valor da linha anterior\n",
    "print(df.fillna(method='pad'))"
   ]
  },
  {
   "cell_type": "code",
   "execution_count": 174,
   "metadata": {},
   "outputs": [
    {
     "name": "stdout",
     "output_type": "stream",
     "text": [
      "        one       two     three\n",
      "a  1.440083 -0.984140 -1.013693\n",
      "b -0.747459 -0.270830  0.693346\n",
      "c -0.747459 -0.270830  0.693346\n",
      "d  0.473234 -0.420926  0.230550\n",
      "e  0.473234 -0.420926  0.230550\n",
      "f -0.383257 -1.418398  0.717404\n",
      "g  2.081058  0.453935 -0.268048\n",
      "h  2.081058  0.453935 -0.268048\n"
     ]
    }
   ],
   "source": [
    "# Substituir valores NaN pelo valor da linha seguinte\n",
    "print(df.fillna(method='bfill'))"
   ]
  },
  {
   "cell_type": "code",
   "execution_count": 175,
   "metadata": {},
   "outputs": [
    {
     "name": "stdout",
     "output_type": "stream",
     "text": [
      "        one       two     three\n",
      "a  1.440083 -0.984140 -1.013693\n",
      "c -0.747459 -0.270830  0.693346\n",
      "e  0.473234 -0.420926  0.230550\n",
      "f -0.383257 -1.418398  0.717404\n",
      "h  2.081058  0.453935 -0.268048\n"
     ]
    }
   ],
   "source": [
    "# Eliminar linhas com valores NaN\n",
    "print(df.dropna())"
   ]
  },
  {
   "cell_type": "code",
   "execution_count": 176,
   "metadata": {},
   "outputs": [
    {
     "name": "stdout",
     "output_type": "stream",
     "text": [
      "Empty DataFrame\n",
      "Columns: []\n",
      "Index: [a, b, c, d, e, f, g, h]\n"
     ]
    }
   ],
   "source": [
    "# Eliminar colunas com valores NaN\n",
    "print(df.dropna(axis=1))"
   ]
  },
  {
   "cell_type": "code",
   "execution_count": 177,
   "metadata": {},
   "outputs": [
    {
     "name": "stdout",
     "output_type": "stream",
     "text": [
      "   one  two\n",
      "0   10   10\n",
      "1   20    0\n",
      "2   30   30\n",
      "3   40   40\n",
      "4   50   50\n",
      "5   60   60\n"
     ]
    }
   ],
   "source": [
    "df = pd.DataFrame({'one':[10,20,30,40,50,2000],\n",
    "'two':[1000,0,30,40,50,60]})\n",
    "\n",
    "# Substituir valores\n",
    "print(df.replace({1000:10,2000:60}))"
   ]
  },
  {
   "cell_type": "markdown",
   "metadata": {},
   "source": [
    "## <a name=\"15\">15. GroupBy</a>\n",
    "\n",
    "As operações de agrupamento normalmente implicam uma das seguintes acções sobre o objecto original:\n",
    "- Segmentação do objecto\n",
    "- Aplicação de funções\n",
    "- Combinação dos resultados\n",
    "\n",
    "Na aplicação de funções podemos fazer:\n",
    "- Agregação: calcular uma estatística sumária\n",
    "- Transformação: operação específica ao grupo\n",
    "- Filtragem: remoção de dados com base em condições"
   ]
  },
  {
   "cell_type": "code",
   "execution_count": 179,
   "metadata": {},
   "outputs": [
    {
     "name": "stdout",
     "output_type": "stream",
     "text": [
      "    Points  Rank    Team  Year\n",
      "0      876     1  Riders  2014\n",
      "1      789     2  Riders  2015\n",
      "2      863     2  Devils  2014\n",
      "3      673     3  Devils  2015\n",
      "4      741     3   Kings  2014\n",
      "5      812     4   kings  2015\n",
      "6      756     1   Kings  2016\n",
      "7      788     1   Kings  2017\n",
      "8      694     2  Riders  2016\n",
      "9      701     4  Royals  2014\n",
      "10     804     1  Royals  2015\n",
      "11     690     2  Riders  2017\n"
     ]
    }
   ],
   "source": [
    "data = {'Team':['Riders','Riders','Devils', 'Devils','Kings','kings','Kings','Kings','Riders','Royals','Royals','Riders'],\n",
    "'Rank':[1,2,2,3,3, 4,1,1,2,4,1,2],\n",
    "'Year':[2014,2015,2014,2015,2014, 2015,2016,2017,2016,2014,2015,2017],\n",
    "'Points':[876,789,863,673,741,812,756,788,694,701, 804,690]}\n",
    "df = pd.DataFrame(data)\n",
    "print(df)"
   ]
  },
  {
   "cell_type": "code",
   "execution_count": 183,
   "metadata": {},
   "outputs": [
    {
     "name": "stdout",
     "output_type": "stream",
     "text": [
      "{'Devils': Int64Index([2, 3], dtype='int64'), 'Kings': Int64Index([4, 6, 7], dtype='int64'), 'Riders': Int64Index([0, 1, 8, 11], dtype='int64'), 'kings': Int64Index([5], dtype='int64'), 'Royals': Int64Index([9, 10], dtype='int64')}\n"
     ]
    }
   ],
   "source": [
    "print(df.groupby('Team').groups)"
   ]
  },
  {
   "cell_type": "code",
   "execution_count": 184,
   "metadata": {},
   "outputs": [
    {
     "name": "stdout",
     "output_type": "stream",
     "text": [
      "{('Royals', 2014): Int64Index([9], dtype='int64'), ('Riders', 2015): Int64Index([1], dtype='int64'), ('Riders', 2014): Int64Index([0], dtype='int64'), ('Devils', 2015): Int64Index([3], dtype='int64'), ('Devils', 2014): Int64Index([2], dtype='int64'), ('Kings', 2014): Int64Index([4], dtype='int64'), ('Kings', 2017): Int64Index([7], dtype='int64'), ('Kings', 2016): Int64Index([6], dtype='int64'), ('Riders', 2017): Int64Index([11], dtype='int64'), ('Riders', 2016): Int64Index([8], dtype='int64'), ('kings', 2015): Int64Index([5], dtype='int64'), ('Royals', 2015): Int64Index([10], dtype='int64')}\n"
     ]
    }
   ],
   "source": [
    "print(df.groupby(['Team','Year']).groups)"
   ]
  },
  {
   "cell_type": "code",
   "execution_count": 188,
   "metadata": {},
   "outputs": [
    {
     "name": "stdout",
     "output_type": "stream",
     "text": [
      "2014\n",
      "   Points  Rank    Team  Year\n",
      "0     876     1  Riders  2014\n",
      "2     863     2  Devils  2014\n",
      "4     741     3   Kings  2014\n",
      "9     701     4  Royals  2014\n",
      "2015\n",
      "    Points  Rank    Team  Year\n",
      "1      789     2  Riders  2015\n",
      "3      673     3  Devils  2015\n",
      "5      812     4   kings  2015\n",
      "10     804     1  Royals  2015\n",
      "2016\n",
      "   Points  Rank    Team  Year\n",
      "6     756     1   Kings  2016\n",
      "8     694     2  Riders  2016\n",
      "2017\n",
      "    Points  Rank    Team  Year\n",
      "7      788     1   Kings  2017\n",
      "11     690     2  Riders  2017\n",
      "\n",
      "\n",
      "   Points  Rank    Team  Year\n",
      "0     876     1  Riders  2014\n",
      "2     863     2  Devils  2014\n",
      "4     741     3   Kings  2014\n",
      "9     701     4  Royals  2014\n"
     ]
    }
   ],
   "source": [
    "grouped = df.groupby('Year')\n",
    "for name,group in grouped:\n",
    "    print(name)\n",
    "    print(group)\n",
    "print('\\n')\n",
    "print(grouped.get_group(2014))"
   ]
  },
  {
   "cell_type": "code",
   "execution_count": 189,
   "metadata": {},
   "outputs": [
    {
     "name": "stdout",
     "output_type": "stream",
     "text": [
      "Year\n",
      "2014    795.25\n",
      "2015    769.50\n",
      "2016    725.00\n",
      "2017    739.00\n",
      "Name: Points, dtype: float64\n"
     ]
    }
   ],
   "source": [
    "print(grouped['Points'].agg(np.mean))"
   ]
  },
  {
   "cell_type": "code",
   "execution_count": 194,
   "metadata": {},
   "outputs": [
    {
     "name": "stdout",
     "output_type": "stream",
     "text": [
      "        Points  Rank  Year\n",
      "Team                      \n",
      "Devils       2     2     2\n",
      "Kings        3     3     3\n",
      "Riders       4     4     4\n",
      "Royals       2     2     2\n",
      "kings        1     1     1\n"
     ]
    }
   ],
   "source": [
    "# Agrupar por equipa e obter o número de vezes que cada\n",
    "# equipa aparece (nº de linhas)\n",
    "grouped = df.groupby('Team')\n",
    "print(grouped.agg(np.size))"
   ]
  },
  {
   "cell_type": "code",
   "execution_count": 193,
   "metadata": {},
   "outputs": [
    {
     "name": "stdout",
     "output_type": "stream",
     "text": [
      "         sum        mean         std\n",
      "Team                                \n",
      "Devils  1536  768.000000  134.350288\n",
      "Kings   2285  761.666667   24.006943\n",
      "Riders  3049  762.250000   88.567771\n",
      "Royals  1505  752.500000   72.831998\n",
      "kings    812  812.000000         NaN\n"
     ]
    }
   ],
   "source": [
    "# Dos dados agrupados, escolher a coluna Points e \n",
    "# aplicar a soma, a média e o desvio padrão\n",
    "print(grouped['Points'].agg([np.sum, np.mean, np.std]))"
   ]
  },
  {
   "cell_type": "code",
   "execution_count": 192,
   "metadata": {},
   "outputs": [
    {
     "name": "stdout",
     "output_type": "stream",
     "text": [
      "    Points  Rank    Team  Year\n",
      "0      876     1  Riders  2014\n",
      "1      789     2  Riders  2015\n",
      "4      741     3   Kings  2014\n",
      "6      756     1   Kings  2016\n",
      "7      788     1   Kings  2017\n",
      "8      694     2  Riders  2016\n",
      "11     690     2  Riders  2017\n"
     ]
    }
   ],
   "source": [
    "# Filtrar os dados agrupados\n",
    "print(grouped.filter(lambda x: len(x) >= 3))"
   ]
  },
  {
   "cell_type": "markdown",
   "metadata": {},
   "source": [
    "## <a name=\"16\">16. Merging/Joining</a>\n",
    "\n",
    "O Pandas tem uma funcionalidade de Join semelhante à de SQL, disponível através da função **merge()**."
   ]
  },
  {
   "cell_type": "code",
   "execution_count": 196,
   "metadata": {},
   "outputs": [
    {
     "name": "stdout",
     "output_type": "stream",
     "text": [
      "     Name  id subject_id\n",
      "0    Alex   1       sub1\n",
      "1     Amy   2       sub2\n",
      "2   Allen   3       sub4\n",
      "3   Alice   4       sub6\n",
      "4  Ayoung   5       sub5\n",
      "\n",
      "\n",
      "    Name  id subject_id\n",
      "0  Billy   1       sub2\n",
      "1  Brian   2       sub4\n",
      "2   Bran   3       sub3\n",
      "3  Bryce   4       sub6\n",
      "4  Betty   5       sub5\n"
     ]
    }
   ],
   "source": [
    "# pd.merge(left, right, how='inner', on=None, left_on=None, right_on=None, left_index=False, right_index=False, sort=True)\n",
    "\n",
    "left = pd.DataFrame({'id':[1,2,3,4,5],'Name': ['Alex','Amy','Allen','Alice','Ayoung'],'subject_id':['sub1','sub2','sub4','sub6','sub5']})\n",
    "right = pd.DataFrame({'id':[1,2,3,4,5],'Name': ['Billy','Brian','Bran','Bryce','Betty'],'subject_id':['sub2','sub4','sub3','sub6','sub5']})\n",
    "print(left)\n",
    "print('\\n')\n",
    "print(right)"
   ]
  },
  {
   "cell_type": "code",
   "execution_count": 198,
   "metadata": {},
   "outputs": [
    {
     "name": "stdout",
     "output_type": "stream",
     "text": [
      "   Name_x  id subject_id_x Name_y subject_id_y\n",
      "0    Alex   1         sub1  Billy         sub2\n",
      "1     Amy   2         sub2  Brian         sub4\n",
      "2   Allen   3         sub4   Bran         sub3\n",
      "3   Alice   4         sub6  Bryce         sub6\n",
      "4  Ayoung   5         sub5  Betty         sub5\n"
     ]
    }
   ],
   "source": [
    "# Join com base na coluna id\n",
    "print(pd.merge(left,right,on='id'))"
   ]
  },
  {
   "cell_type": "code",
   "execution_count": 199,
   "metadata": {},
   "outputs": [
    {
     "name": "stdout",
     "output_type": "stream",
     "text": [
      "   Name_x  id subject_id Name_y\n",
      "0   Alice   4       sub6  Bryce\n",
      "1  Ayoung   5       sub5  Betty\n"
     ]
    }
   ],
   "source": [
    "# Join com base nas colunas id e subject_id\n",
    "print(pd.merge(left,right,on=['id','subject_id']))"
   ]
  },
  {
   "cell_type": "code",
   "execution_count": 200,
   "metadata": {},
   "outputs": [
    {
     "name": "stdout",
     "output_type": "stream",
     "text": [
      "   Name_x  id_x subject_id Name_y  id_y\n",
      "0    Alex     1       sub1    NaN   NaN\n",
      "1     Amy     2       sub2  Billy   1.0\n",
      "2   Allen     3       sub4  Brian   2.0\n",
      "3   Alice     4       sub6  Bryce   4.0\n",
      "4  Ayoung     5       sub5  Betty   5.0\n"
     ]
    }
   ],
   "source": [
    "# Left Join\n",
    "print(pd.merge(left,right,on='subject_id',\n",
    "how='left'))"
   ]
  },
  {
   "cell_type": "code",
   "execution_count": 201,
   "metadata": {},
   "outputs": [
    {
     "name": "stdout",
     "output_type": "stream",
     "text": [
      "   Name_x  id_x subject_id Name_y  id_y\n",
      "0     Amy   2.0       sub2  Billy     1\n",
      "1   Allen   3.0       sub4  Brian     2\n",
      "2   Alice   4.0       sub6  Bryce     4\n",
      "3  Ayoung   5.0       sub5  Betty     5\n",
      "4     NaN   NaN       sub3   Bran     3\n"
     ]
    }
   ],
   "source": [
    "# Right Join\n",
    "print(pd.merge(left,right,on='subject_id',\n",
    "how='right'))"
   ]
  },
  {
   "cell_type": "code",
   "execution_count": 202,
   "metadata": {},
   "outputs": [
    {
     "name": "stdout",
     "output_type": "stream",
     "text": [
      "   Name_x  id_x subject_id Name_y  id_y\n",
      "0    Alex   1.0       sub1    NaN   NaN\n",
      "1     Amy   2.0       sub2  Billy   1.0\n",
      "2   Allen   3.0       sub4  Brian   2.0\n",
      "3   Alice   4.0       sub6  Bryce   4.0\n",
      "4  Ayoung   5.0       sub5  Betty   5.0\n",
      "5     NaN   NaN       sub3   Bran   3.0\n"
     ]
    }
   ],
   "source": [
    "# Outer Join\n",
    "print(pd.merge(left,right,on='subject_id',\n",
    "how='outer'))"
   ]
  },
  {
   "cell_type": "code",
   "execution_count": 203,
   "metadata": {},
   "outputs": [
    {
     "name": "stdout",
     "output_type": "stream",
     "text": [
      "   Name_x  id_x subject_id Name_y  id_y\n",
      "0     Amy     2       sub2  Billy     1\n",
      "1   Allen     3       sub4  Brian     2\n",
      "2   Alice     4       sub6  Bryce     4\n",
      "3  Ayoung     5       sub5  Betty     5\n"
     ]
    }
   ],
   "source": [
    "# Inner Join\n",
    "print(pd.merge(left,right,on='subject_id',\n",
    "how='inner'))"
   ]
  },
  {
   "cell_type": "markdown",
   "metadata": {},
   "source": [
    "## <a name=\"17\">17. Concatenation</a>\n",
    "\n",
    "O Pandas possibilita a combinação de elementos num só através das funções **concat()** e **append()**."
   ]
  },
  {
   "cell_type": "code",
   "execution_count": 205,
   "metadata": {},
   "outputs": [
    {
     "name": "stdout",
     "output_type": "stream",
     "text": [
      "   Marks_scored    Name subject_id\n",
      "1            98    Alex       sub1\n",
      "2            90     Amy       sub2\n",
      "3            87   Allen       sub4\n",
      "4            69   Alice       sub6\n",
      "5            78  Ayoung       sub5\n",
      "   Marks_scored   Name subject_id\n",
      "1            89  Billy       sub2\n",
      "2            80  Brian       sub4\n",
      "3            79   Bran       sub3\n",
      "4            97  Bryce       sub6\n",
      "5            88  Betty       sub5\n"
     ]
    }
   ],
   "source": [
    "# pd.concat(objs,axis=0,join='outer',join_axes= None,ignore_index=False)\n",
    "\n",
    "one = pd.DataFrame({'Name': ['Alex', 'Amy', 'Allen', 'Alice', 'Ayoung'],'subject_id':['sub1', 'sub2','sub4','sub6','sub5'],'Marks_scored':[98,90,87,69,78]},index=[1,2,3,4,5])\n",
    "two = pd.DataFrame({'Name': ['Billy', 'Brian', 'Bran', 'Bryce', 'Betty'],'subject_id':['sub2', 'sub4','sub3','sub6','sub5'],'Marks_scored':[89,80,79,97,88]},index=[1,2,3,4,5])\n",
    "print(one)\n",
    "print(two)"
   ]
  },
  {
   "cell_type": "code",
   "execution_count": 213,
   "metadata": {},
   "outputs": [
    {
     "name": "stdout",
     "output_type": "stream",
     "text": [
      "   Marks_scored    Name subject_id\n",
      "1            98    Alex       sub1\n",
      "2            90     Amy       sub2\n",
      "3            87   Allen       sub4\n",
      "4            69   Alice       sub6\n",
      "5            78  Ayoung       sub5\n",
      "1            89   Billy       sub2\n",
      "2            80   Brian       sub4\n",
      "3            79    Bran       sub3\n",
      "4            97   Bryce       sub6\n",
      "5            88   Betty       sub5\n"
     ]
    }
   ],
   "source": [
    "# Concatenar verticalmente\n",
    "print(pd.concat([one,two]))"
   ]
  },
  {
   "cell_type": "code",
   "execution_count": 209,
   "metadata": {},
   "outputs": [
    {
     "name": "stdout",
     "output_type": "stream",
     "text": [
      "       Marks_scored    Name subject_id\n",
      "one 1            98    Alex       sub1\n",
      "    2            90     Amy       sub2\n",
      "    3            87   Allen       sub4\n",
      "    4            69   Alice       sub6\n",
      "    5            78  Ayoung       sub5\n",
      "two 1            89   Billy       sub2\n",
      "    2            80   Brian       sub4\n",
      "    3            79    Bran       sub3\n",
      "    4            97   Bryce       sub6\n",
      "    5            88   Betty       sub5\n"
     ]
    }
   ],
   "source": [
    "# Definir labels para identificar entre eles\n",
    "print(pd.concat([one,two],keys=['one','two']))"
   ]
  },
  {
   "cell_type": "code",
   "execution_count": 211,
   "metadata": {},
   "outputs": [
    {
     "name": "stdout",
     "output_type": "stream",
     "text": [
      "   Marks_scored    Name subject_id\n",
      "0            98    Alex       sub1\n",
      "1            90     Amy       sub2\n",
      "2            87   Allen       sub4\n",
      "3            69   Alice       sub6\n",
      "4            78  Ayoung       sub5\n",
      "5            89   Billy       sub2\n",
      "6            80   Brian       sub4\n",
      "7            79    Bran       sub3\n",
      "8            97   Bryce       sub6\n",
      "9            88   Betty       sub5\n"
     ]
    }
   ],
   "source": [
    "# Reindexar as linhas\n",
    "print(pd.concat([one,two],keys=['one','two'],ignore_index=True))"
   ]
  },
  {
   "cell_type": "code",
   "execution_count": 212,
   "metadata": {},
   "outputs": [
    {
     "name": "stdout",
     "output_type": "stream",
     "text": [
      "   Marks_scored    Name subject_id  Marks_scored   Name subject_id\n",
      "1            98    Alex       sub1            89  Billy       sub2\n",
      "2            90     Amy       sub2            80  Brian       sub4\n",
      "3            87   Allen       sub4            79   Bran       sub3\n",
      "4            69   Alice       sub6            97  Bryce       sub6\n",
      "5            78  Ayoung       sub5            88  Betty       sub5\n"
     ]
    }
   ],
   "source": [
    "# Concatenar horizontalmente\n",
    "print(pd.concat([one,two],axis=1))"
   ]
  },
  {
   "cell_type": "code",
   "execution_count": 217,
   "metadata": {},
   "outputs": [
    {
     "name": "stdout",
     "output_type": "stream",
     "text": [
      "   Marks_scored    Name subject_id\n",
      "1            98    Alex       sub1\n",
      "2            90     Amy       sub2\n",
      "3            87   Allen       sub4\n",
      "4            69   Alice       sub6\n",
      "5            78  Ayoung       sub5\n",
      "1            89   Billy       sub2\n",
      "2            80   Brian       sub4\n",
      "3            79    Bran       sub3\n",
      "4            97   Bryce       sub6\n",
      "5            88   Betty       sub5\n"
     ]
    }
   ],
   "source": [
    "# Fazer append do 2º ao primeiro. É sempre verticalmente.\n",
    "print(one.append(two))"
   ]
  },
  {
   "cell_type": "code",
   "execution_count": 218,
   "metadata": {},
   "outputs": [
    {
     "name": "stdout",
     "output_type": "stream",
     "text": [
      "   Marks_scored    Name subject_id\n",
      "1            98    Alex       sub1\n",
      "2            90     Amy       sub2\n",
      "3            87   Allen       sub4\n",
      "4            69   Alice       sub6\n",
      "5            78  Ayoung       sub5\n",
      "1            89   Billy       sub2\n",
      "2            80   Brian       sub4\n",
      "3            79    Bran       sub3\n",
      "4            97   Bryce       sub6\n",
      "5            88   Betty       sub5\n",
      "1            98    Alex       sub1\n",
      "2            90     Amy       sub2\n",
      "3            87   Allen       sub4\n",
      "4            69   Alice       sub6\n",
      "5            78  Ayoung       sub5\n",
      "1            89   Billy       sub2\n",
      "2            80   Brian       sub4\n",
      "3            79    Bran       sub3\n",
      "4            97   Bryce       sub6\n",
      "5            88   Betty       sub5\n"
     ]
    }
   ],
   "source": [
    "# Podemos fazer append de várias formas com objectos \n",
    "# repetidos e por qualquer ordem.\n",
    "print(one.append([two,one,two]))"
   ]
  },
  {
   "cell_type": "markdown",
   "metadata": {},
   "source": [
    "## <a name=\"18\">18. Visualization</a>\n",
    "\n",
    "O Pandas tem um wrapper do PyPlot para fazer alguns gráficos."
   ]
  },
  {
   "cell_type": "code",
   "execution_count": 220,
   "metadata": {},
   "outputs": [
    {
     "data": {
      "image/png": "[encoded data removed]",
      "text/plain": [
       "<Figure size 432x288 with 1 Axes>"
      ]
     },
     "metadata": {
      "needs_background": "light"
     },
     "output_type": "display_data"
    }
   ],
   "source": [
    "# Import pyplot\n",
    "from matplotlib import pyplot as plt\n",
    "\n",
    "df =pd.DataFrame(np.random.randn(10,4),index= pd.date_range('1/1/2000',periods=10), columns= list('ABCD'))\n",
    "df.plot()\n",
    "plt.show()"
   ]
  },
  {
   "cell_type": "code",
   "execution_count": 223,
   "metadata": {},
   "outputs": [
    {
     "name": "stdout",
     "output_type": "stream",
     "text": [
      "          a         b         c         d\n",
      "0  0.651310  0.572708  0.546888  0.583815\n",
      "1  0.857434  0.437505  0.569201  0.725067\n",
      "2  0.798433  0.483011  0.026130  0.329107\n",
      "3  0.892946  0.570720  0.834565  0.682575\n",
      "4  0.786078  0.518220  0.567601  0.050740\n",
      "5  0.016934  0.618166  0.143152  0.673051\n",
      "6  0.270945  0.643369  0.209758  0.942309\n",
      "7  0.888801  0.584911  0.126026  0.199088\n",
      "8  0.516398  0.251203  0.720493  0.287118\n",
      "9  0.927048  0.158957  0.367399  0.664972\n"
     ]
    }
   ],
   "source": [
    "df = pd.DataFrame(np.random.rand(10,4),columns= ['a','b','c','d'])\n",
    "print(df)"
   ]
  },
  {
   "cell_type": "code",
   "execution_count": 224,
   "metadata": {},
   "outputs": [
    {
     "data": {
      "text/plain": [
       "<matplotlib.axes._subplots.AxesSubplot at 0x7f76f1f3b2e8>"
      ]
     },
     "execution_count": 224,
     "metadata": {},
     "output_type": "execute_result"
    },
    {
     "data": {
      "image/png": "[encoded data removed]",
      "text/plain": [
       "<Figure size 432x288 with 1 Axes>"
      ]
     },
     "metadata": {
      "needs_background": "light"
     },
     "output_type": "display_data"
    }
   ],
   "source": [
    "# Gráfico de barras\n",
    "df.plot.bar()"
   ]
  },
  {
   "cell_type": "code",
   "execution_count": 225,
   "metadata": {},
   "outputs": [
    {
     "data": {
      "text/plain": [
       "<matplotlib.axes._subplots.AxesSubplot at 0x7f76e674a208>"
      ]
     },
     "execution_count": 225,
     "metadata": {},
     "output_type": "execute_result"
    },
    {
     "data": {
      "image/png": "[encoded data removed]",
      "text/plain": [
       "<Figure size 432x288 with 1 Axes>"
      ]
     },
     "metadata": {
      "needs_background": "light"
     },
     "output_type": "display_data"
    }
   ],
   "source": [
    "# Gráficos de barras empilhado\n",
    "df.plot.bar(stacked=True)"
   ]
  },
  {
   "cell_type": "code",
   "execution_count": 226,
   "metadata": {},
   "outputs": [
    {
     "data": {
      "text/plain": [
       "<matplotlib.axes._subplots.AxesSubplot at 0x7f76e6820390>"
      ]
     },
     "execution_count": 226,
     "metadata": {},
     "output_type": "execute_result"
    },
    {
     "data": {
      "image/png": "[encoded data removed]",
      "text/plain": [
       "<Figure size 432x288 with 1 Axes>"
      ]
     },
     "metadata": {
      "needs_background": "light"
     },
     "output_type": "display_data"
    },
    {
     "data": {
      "image/png": "[encoded data removed]",
      "text/plain": [
       "<Figure size 432x288 with 1 Axes>"
      ]
     },
     "metadata": {
      "needs_background": "light"
     },
     "output_type": "display_data"
    }
   ],
   "source": [
    "df.plot.barh()\n",
    "df.plot.barh(stacked=True)"
   ]
  },
  {
   "cell_type": "code",
   "execution_count": 228,
   "metadata": {},
   "outputs": [
    {
     "data": {
      "text/plain": [
       "<matplotlib.axes._subplots.AxesSubplot at 0x7f76e6610f60>"
      ]
     },
     "execution_count": 228,
     "metadata": {},
     "output_type": "execute_result"
    },
    {
     "data": {
      "image/png": "[encoded data removed]",
      "text/plain": [
       "<Figure size 432x288 with 1 Axes>"
      ]
     },
     "metadata": {
      "needs_background": "light"
     },
     "output_type": "display_data"
    }
   ],
   "source": [
    "df=pd.DataFrame({'a':np.random.randn(1000)+1,'b':np.random.randn(1000),'c':\n",
    "np.random.randn(1000) - 1}, columns=['a', 'b', 'c'])\n",
    "\n",
    "# Histogramas\n",
    "df.plot.hist(bins=20)"
   ]
  },
  {
   "cell_type": "code",
   "execution_count": 229,
   "metadata": {},
   "outputs": [
    {
     "data": {
      "text/plain": [
       "<matplotlib.axes._subplots.AxesSubplot at 0x7f76e65c0ef0>"
      ]
     },
     "execution_count": 229,
     "metadata": {},
     "output_type": "execute_result"
    },
    {
     "data": {
      "image/png": "[encoded data removed]",
      "text/plain": [
       "<Figure size 432x288 with 1 Axes>"
      ]
     },
     "metadata": {
      "needs_background": "light"
     },
     "output_type": "display_data"
    }
   ],
   "source": [
    "df = pd.DataFrame(np.random.rand(10, 5), columns=['A', 'B', 'C', 'D', 'E'])\n",
    "# Box Plots\n",
    "df.plot.box()"
   ]
  },
  {
   "cell_type": "code",
   "execution_count": 230,
   "metadata": {},
   "outputs": [
    {
     "data": {
      "text/plain": [
       "<matplotlib.axes._subplots.AxesSubplot at 0x7f76e6553908>"
      ]
     },
     "execution_count": 230,
     "metadata": {},
     "output_type": "execute_result"
    },
    {
     "data": {
      "image/png": "[encoded data removed]",
      "text/plain": [
       "<Figure size 432x288 with 1 Axes>"
      ]
     },
     "metadata": {
      "needs_background": "light"
     },
     "output_type": "display_data"
    }
   ],
   "source": [
    "df = pd.DataFrame(np.random.rand(10, 4), columns=['a', 'b', 'c', 'd'])\n",
    "# Gráficos de área\n",
    "df.plot.area()"
   ]
  },
  {
   "cell_type": "code",
   "execution_count": 231,
   "metadata": {},
   "outputs": [
    {
     "data": {
      "text/plain": [
       "<matplotlib.axes._subplots.AxesSubplot at 0x7f76e650def0>"
      ]
     },
     "execution_count": 231,
     "metadata": {},
     "output_type": "execute_result"
    },
    {
     "data": {
      "image/png": "[encoded data removed]",
      "text/plain": [
       "<Figure size 432x288 with 1 Axes>"
      ]
     },
     "metadata": {
      "needs_background": "light"
     },
     "output_type": "display_data"
    }
   ],
   "source": [
    "df = pd.DataFrame(np.random.rand(50, 4), columns=['a', 'b', 'c', 'd'])\n",
    "# Scatter Plot\n",
    "df.plot.scatter(x='a', y='b')"
   ]
  },
  {
   "cell_type": "code",
   "execution_count": 232,
   "metadata": {},
   "outputs": [
    {
     "data": {
      "text/plain": [
       "array([<matplotlib.axes._subplots.AxesSubplot object at 0x7f76e63c5908>],\n",
       "      dtype=object)"
      ]
     },
     "execution_count": 232,
     "metadata": {},
     "output_type": "execute_result"
    },
    {
     "data": {
      "image/png": "[encoded data removed]",
      "text/plain": [
       "<Figure size 432x288 with 1 Axes>"
      ]
     },
     "metadata": {},
     "output_type": "display_data"
    }
   ],
   "source": [
    "df = pd.DataFrame(3 * np.random.rand(4), index=['a', 'b', 'c', 'd'], columns=['x'])\n",
    "# Pie Charts\n",
    "df.plot.pie(subplots=True)"
   ]
  }
 ],
 "metadata": {
  "kernelspec": {
   "display_name": "Python 3",
   "language": "python",
   "name": "python3"
  },
  "language_info": {
   "codemirror_mode": {
    "name": "ipython",
    "version": 3
   },
   "file_extension": ".py",
   "mimetype": "text/x-python",
   "name": "python",
   "nbconvert_exporter": "python",
   "pygments_lexer": "ipython3",
   "version": "3.5.5"
  }
 },
 "nbformat": 4,
 "nbformat_minor": 2
}
