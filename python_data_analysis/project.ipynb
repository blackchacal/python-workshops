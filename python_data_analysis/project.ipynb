{
 "cells": [
  {
   "cell_type": "markdown",
   "metadata": {},
   "source": [
    "# Python Data Analysis\n",
    "## Projecto - Mortalidade Europeia\n",
    "\n",
    "Este projecto consiste na análise de uma base de dados da OMS para as causas de mortalidade (mais de 60) na Europa ([European mortality database](https://dw.euro.who.int/)). Alguns dados vêm desde 1961 até 2016. A base de dados encontra-se dispersa em vários ficheiros CSV (cerca de 60 ficheiros) e contém as seguintes características:\n",
    "- Causa de mortalidade;\n",
    "- Ano;\n",
    "- País;\n",
    "- Faixa Etária;\n",
    "- Género;\n",
    "- População;\n",
    "- Valor (Contagem ou Taxa)."
   ]
  },
  {
   "cell_type": "markdown",
   "metadata": {},
   "source": [
    "### Objectivos\n",
    "\n",
    "Vamos estudar o impacto de 3 patologias: Pneumonia, Diabetes mellitus e AIDS/HIV."
   ]
  },
  {
   "cell_type": "markdown",
   "metadata": {},
   "source": [
    "####  1. Importar as bibliotecas para trabalhar"
   ]
  },
  {
   "cell_type": "code",
   "execution_count": null,
   "metadata": {},
   "outputs": [],
   "source": []
  },
  {
   "cell_type": "markdown",
   "metadata": {},
   "source": [
    "####  2. Carregar os dados referentes às patologias indicadas"
   ]
  },
  {
   "cell_type": "code",
   "execution_count": null,
   "metadata": {},
   "outputs": [],
   "source": []
  },
  {
   "cell_type": "markdown",
   "metadata": {},
   "source": [
    "#### 3. Obter apenas os dados referentes a contagem de número de mortos (o measure_code deve ser do tipo COUNT e unidade NUM_DTH)"
   ]
  },
  {
   "cell_type": "code",
   "execution_count": null,
   "metadata": {},
   "outputs": [],
   "source": []
  },
  {
   "cell_type": "markdown",
   "metadata": {},
   "source": [
    "#### 4. Concatenar os dados das 3 patologias numa só estrutura de dados"
   ]
  },
  {
   "cell_type": "code",
   "execution_count": null,
   "metadata": {},
   "outputs": [],
   "source": []
  },
  {
   "cell_type": "markdown",
   "metadata": {},
   "source": [
    "#### 5. Agrupar dados por patologia e por país"
   ]
  },
  {
   "cell_type": "code",
   "execution_count": null,
   "metadata": {},
   "outputs": [],
   "source": []
  },
  {
   "cell_type": "markdown",
   "metadata": {},
   "source": [
    "#### 6. Obter estatísticas dos dados para inferir quais os países com maior/menor mortalidade para cada patologia por ano, e no total até 2016."
   ]
  },
  {
   "cell_type": "code",
   "execution_count": null,
   "metadata": {},
   "outputs": [],
   "source": []
  },
  {
   "cell_type": "markdown",
   "metadata": {},
   "source": [
    "#### 7. Apresentar gráficos de barras e pie charts para cada patologia, para Portugal, para os anos todos."
   ]
  },
  {
   "cell_type": "code",
   "execution_count": null,
   "metadata": {},
   "outputs": [],
   "source": []
  }
 ],
 "metadata": {
  "kernelspec": {
   "display_name": "Python 3",
   "language": "python",
   "name": "python3"
  },
  "language_info": {
   "codemirror_mode": {
    "name": "ipython",
    "version": 3
   },
   "file_extension": ".py",
   "mimetype": "text/x-python",
   "name": "python",
   "nbconvert_exporter": "python",
   "pygments_lexer": "ipython3",
   "version": "3.5.5"
  }
 },
 "nbformat": 4,
 "nbformat_minor": 2
}
